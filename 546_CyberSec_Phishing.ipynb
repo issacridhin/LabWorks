{
  "nbformat": 4,
  "nbformat_minor": 0,
  "metadata": {
    "colab": {
      "provenance": [],
      "authorship_tag": "ABX9TyN0kZ82wj1TH16hZEagpXYc",
      "include_colab_link": true
    },
    "kernelspec": {
      "name": "python3",
      "display_name": "Python 3"
    },
    "language_info": {
      "name": "python"
    }
  },
  "cells": [
    {
      "cell_type": "markdown",
      "metadata": {
        "id": "view-in-github",
        "colab_type": "text"
      },
      "source": [
        "<a href=\"https://colab.research.google.com/github/issacridhin/LabWorks/blob/Cyber-Security/546_CyberSec_Phishing.ipynb\" target=\"_parent\"><img src=\"https://colab.research.google.com/assets/colab-badge.svg\" alt=\"Open In Colab\"/></a>"
      ]
    },
    {
      "cell_type": "code",
      "execution_count": 1,
      "metadata": {
        "id": "_3y-giPJ9EVG"
      },
      "outputs": [],
      "source": [
        "import pandas as pd"
      ]
    },
    {
      "cell_type": "code",
      "source": [
        "dataset = pd.read_csv('/content/Phishing_Legitimate_full.csv')"
      ],
      "metadata": {
        "id": "0nTkXyd19Tlg"
      },
      "execution_count": 4,
      "outputs": []
    },
    {
      "cell_type": "code",
      "source": [
        "dataset.info()"
      ],
      "metadata": {
        "colab": {
          "base_uri": "https://localhost:8080/"
        },
        "id": "efbRo_s19ai5",
        "outputId": "e1c96f8a-62e9-4f88-f4f6-7da0f509dc60"
      },
      "execution_count": 5,
      "outputs": [
        {
          "output_type": "stream",
          "name": "stdout",
          "text": [
            "<class 'pandas.core.frame.DataFrame'>\n",
            "RangeIndex: 10000 entries, 0 to 9999\n",
            "Data columns (total 50 columns):\n",
            " #   Column                              Non-Null Count  Dtype  \n",
            "---  ------                              --------------  -----  \n",
            " 0   id                                  10000 non-null  int64  \n",
            " 1   NumDots                             10000 non-null  int64  \n",
            " 2   SubdomainLevel                      10000 non-null  int64  \n",
            " 3   PathLevel                           10000 non-null  int64  \n",
            " 4   UrlLength                           10000 non-null  int64  \n",
            " 5   NumDash                             10000 non-null  int64  \n",
            " 6   NumDashInHostname                   10000 non-null  int64  \n",
            " 7   AtSymbol                            10000 non-null  int64  \n",
            " 8   TildeSymbol                         10000 non-null  int64  \n",
            " 9   NumUnderscore                       10000 non-null  int64  \n",
            " 10  NumPercent                          10000 non-null  int64  \n",
            " 11  NumQueryComponents                  10000 non-null  int64  \n",
            " 12  NumAmpersand                        10000 non-null  int64  \n",
            " 13  NumHash                             10000 non-null  int64  \n",
            " 14  NumNumericChars                     10000 non-null  int64  \n",
            " 15  NoHttps                             10000 non-null  int64  \n",
            " 16  RandomString                        10000 non-null  int64  \n",
            " 17  IpAddress                           10000 non-null  int64  \n",
            " 18  DomainInSubdomains                  10000 non-null  int64  \n",
            " 19  DomainInPaths                       10000 non-null  int64  \n",
            " 20  HttpsInHostname                     10000 non-null  int64  \n",
            " 21  HostnameLength                      10000 non-null  int64  \n",
            " 22  PathLength                          10000 non-null  int64  \n",
            " 23  QueryLength                         10000 non-null  int64  \n",
            " 24  DoubleSlashInPath                   10000 non-null  int64  \n",
            " 25  NumSensitiveWords                   10000 non-null  int64  \n",
            " 26  EmbeddedBrandName                   10000 non-null  int64  \n",
            " 27  PctExtHyperlinks                    10000 non-null  float64\n",
            " 28  PctExtResourceUrls                  10000 non-null  float64\n",
            " 29  ExtFavicon                          10000 non-null  int64  \n",
            " 30  InsecureForms                       10000 non-null  int64  \n",
            " 31  RelativeFormAction                  10000 non-null  int64  \n",
            " 32  ExtFormAction                       10000 non-null  int64  \n",
            " 33  AbnormalFormAction                  10000 non-null  int64  \n",
            " 34  PctNullSelfRedirectHyperlinks       10000 non-null  float64\n",
            " 35  FrequentDomainNameMismatch          10000 non-null  int64  \n",
            " 36  FakeLinkInStatusBar                 10000 non-null  int64  \n",
            " 37  RightClickDisabled                  10000 non-null  int64  \n",
            " 38  PopUpWindow                         10000 non-null  int64  \n",
            " 39  SubmitInfoToEmail                   10000 non-null  int64  \n",
            " 40  IframeOrFrame                       10000 non-null  int64  \n",
            " 41  MissingTitle                        10000 non-null  int64  \n",
            " 42  ImagesOnlyInForm                    10000 non-null  int64  \n",
            " 43  SubdomainLevelRT                    10000 non-null  int64  \n",
            " 44  UrlLengthRT                         10000 non-null  int64  \n",
            " 45  PctExtResourceUrlsRT                10000 non-null  int64  \n",
            " 46  AbnormalExtFormActionR              10000 non-null  int64  \n",
            " 47  ExtMetaScriptLinkRT                 10000 non-null  int64  \n",
            " 48  PctExtNullSelfRedirectHyperlinksRT  10000 non-null  int64  \n",
            " 49  CLASS_LABEL                         10000 non-null  int64  \n",
            "dtypes: float64(3), int64(47)\n",
            "memory usage: 3.8 MB\n"
          ]
        }
      ]
    },
    {
      "cell_type": "code",
      "source": [
        "from sklearn.model_selection import train_test_split\n",
        "from sklearn.linear_model import LogisticRegression\n",
        "from sklearn.metrics import accuracy_score, classification_report\n",
        "\n",
        "# Step 1: Data Preparation\n",
        "X = dataset.drop(columns=['CLASS_LABEL'])\n",
        "y = dataset['CLASS_LABEL']\n",
        "\n",
        "# Step 2: Data Splitting\n",
        "X_train, X_test, y_train, y_test = train_test_split(X, y, test_size=0.2, random_state=42)\n",
        "\n",
        "# Step 3: Model Selection\n",
        "model = LogisticRegression()\n",
        "\n",
        "# Step 4: Model Training\n",
        "model.fit(X_train, y_train)\n",
        "\n",
        "# Step 5: Model Evaluation\n",
        "y_pred = model.predict(X_test)\n",
        "accuracy = accuracy_score(y_test, y_pred)\n",
        "report = classification_report(y_test, y_pred)\n",
        "\n",
        "print(\"Accuracy:\", accuracy)\n",
        "print(\"Classification Report:\")\n",
        "print(report)\n"
      ],
      "metadata": {
        "colab": {
          "base_uri": "https://localhost:8080/"
        },
        "id": "FnaDrwQV-lZ4",
        "outputId": "0cfded36-3072-4f0a-f256-6d4fa1bca6b5"
      },
      "execution_count": 6,
      "outputs": [
        {
          "output_type": "stream",
          "name": "stdout",
          "text": [
            "Accuracy: 0.974\n",
            "Classification Report:\n",
            "              precision    recall  f1-score   support\n",
            "\n",
            "           0       0.97      0.98      0.97       988\n",
            "           1       0.98      0.97      0.97      1012\n",
            "\n",
            "    accuracy                           0.97      2000\n",
            "   macro avg       0.97      0.97      0.97      2000\n",
            "weighted avg       0.97      0.97      0.97      2000\n",
            "\n"
          ]
        },
        {
          "output_type": "stream",
          "name": "stderr",
          "text": [
            "/usr/local/lib/python3.10/dist-packages/sklearn/linear_model/_logistic.py:458: ConvergenceWarning: lbfgs failed to converge (status=1):\n",
            "STOP: TOTAL NO. of ITERATIONS REACHED LIMIT.\n",
            "\n",
            "Increase the number of iterations (max_iter) or scale the data as shown in:\n",
            "    https://scikit-learn.org/stable/modules/preprocessing.html\n",
            "Please also refer to the documentation for alternative solver options:\n",
            "    https://scikit-learn.org/stable/modules/linear_model.html#logistic-regression\n",
            "  n_iter_i = _check_optimize_result(\n"
          ]
        }
      ]
    },
    {
      "cell_type": "code",
      "source": [
        "import joblib\n",
        "\n",
        "joblib.dump(model, 'phishing_email_classifier_model.pkl')\n"
      ],
      "metadata": {
        "colab": {
          "base_uri": "https://localhost:8080/"
        },
        "id": "m32am31m-rbM",
        "outputId": "a676bedd-6e59-451d-cfbe-aac772b71140"
      },
      "execution_count": 7,
      "outputs": [
        {
          "output_type": "execute_result",
          "data": {
            "text/plain": [
              "['phishing_email_classifier_model.pkl']"
            ]
          },
          "metadata": {},
          "execution_count": 7
        }
      ]
    },
    {
      "cell_type": "code",
      "source": [
        "import pandas as pd\n",
        "from sklearn.linear_model import LogisticRegression\n",
        "from sklearn.feature_extraction.text import TfidfVectorizer\n",
        "import joblib\n",
        "\n",
        "# Load the trained model\n",
        "model = joblib.load('phishing_email_classifier_model.pkl')\n",
        "\n",
        "# Load the email content\n",
        "def load_email_content(file_path):\n",
        "    with open(file_path, 'r') as file:\n",
        "        content = file.read()\n",
        "    return content\n",
        "\n",
        "# Preprocess the email content\n",
        "def preprocess_email_content(content):\n",
        "    # Preprocessing steps (e.g., remove special characters, tokenize, lowercase)\n",
        "    return content\n",
        "\n",
        "# Extract features from the preprocessed email content\n",
        "def extract_features(content):\n",
        "    vectorizer = TfidfVectorizer()\n",
        "    features = vectorizer.transform([content])\n",
        "    return features\n",
        "\n",
        "# Classify the email\n",
        "def classify_email(content):\n",
        "    preprocessed_content = preprocess_email_content(content)\n",
        "    features = extract_features(preprocessed_content)\n",
        "    label = model.predict(features)\n",
        "    return label[0]\n",
        "\n",
        "# Display the label\n",
        "def display_label(label):\n",
        "    if label == 0:\n",
        "        print(\"Legitimate\")\n",
        "    elif label == 1:\n",
        "        print(\"Phishing\")\n",
        "    elif label == 2:\n",
        "        print(\"Spam\")\n",
        "    elif label == 3:\n",
        "        print(\"Warning\")\n",
        "\n",
        "# Example usage\n",
        "file_path = 'sample_email.txt'\n",
        "email_content = load_email_content(file_path)\n",
        "label = classify_email(email_content)\n",
        "display_label(label)\n"
      ],
      "metadata": {
        "colab": {
          "base_uri": "https://localhost:8080/",
          "height": 332
        },
        "id": "0kJeekAD-ybi",
        "outputId": "6c0eea6b-b228-4698-d8ca-b079d62ef5c0"
      },
      "execution_count": 8,
      "outputs": [
        {
          "output_type": "error",
          "ename": "FileNotFoundError",
          "evalue": "[Errno 2] No such file or directory: 'sample_email.txt'",
          "traceback": [
            "\u001b[0;31m---------------------------------------------------------------------------\u001b[0m",
            "\u001b[0;31mFileNotFoundError\u001b[0m                         Traceback (most recent call last)",
            "\u001b[0;32m<ipython-input-8-ef62a9f8d3c9>\u001b[0m in \u001b[0;36m<cell line: 46>\u001b[0;34m()\u001b[0m\n\u001b[1;32m     44\u001b[0m \u001b[0;31m# Example usage\u001b[0m\u001b[0;34m\u001b[0m\u001b[0;34m\u001b[0m\u001b[0m\n\u001b[1;32m     45\u001b[0m \u001b[0mfile_path\u001b[0m \u001b[0;34m=\u001b[0m \u001b[0;34m'sample_email.txt'\u001b[0m\u001b[0;34m\u001b[0m\u001b[0;34m\u001b[0m\u001b[0m\n\u001b[0;32m---> 46\u001b[0;31m \u001b[0memail_content\u001b[0m \u001b[0;34m=\u001b[0m \u001b[0mload_email_content\u001b[0m\u001b[0;34m(\u001b[0m\u001b[0mfile_path\u001b[0m\u001b[0;34m)\u001b[0m\u001b[0;34m\u001b[0m\u001b[0;34m\u001b[0m\u001b[0m\n\u001b[0m\u001b[1;32m     47\u001b[0m \u001b[0mlabel\u001b[0m \u001b[0;34m=\u001b[0m \u001b[0mclassify_email\u001b[0m\u001b[0;34m(\u001b[0m\u001b[0memail_content\u001b[0m\u001b[0;34m)\u001b[0m\u001b[0;34m\u001b[0m\u001b[0;34m\u001b[0m\u001b[0m\n\u001b[1;32m     48\u001b[0m \u001b[0mdisplay_label\u001b[0m\u001b[0;34m(\u001b[0m\u001b[0mlabel\u001b[0m\u001b[0;34m)\u001b[0m\u001b[0;34m\u001b[0m\u001b[0;34m\u001b[0m\u001b[0m\n",
            "\u001b[0;32m<ipython-input-8-ef62a9f8d3c9>\u001b[0m in \u001b[0;36mload_email_content\u001b[0;34m(file_path)\u001b[0m\n\u001b[1;32m      9\u001b[0m \u001b[0;31m# Load the email content\u001b[0m\u001b[0;34m\u001b[0m\u001b[0;34m\u001b[0m\u001b[0m\n\u001b[1;32m     10\u001b[0m \u001b[0;32mdef\u001b[0m \u001b[0mload_email_content\u001b[0m\u001b[0;34m(\u001b[0m\u001b[0mfile_path\u001b[0m\u001b[0;34m)\u001b[0m\u001b[0;34m:\u001b[0m\u001b[0;34m\u001b[0m\u001b[0;34m\u001b[0m\u001b[0m\n\u001b[0;32m---> 11\u001b[0;31m     \u001b[0;32mwith\u001b[0m \u001b[0mopen\u001b[0m\u001b[0;34m(\u001b[0m\u001b[0mfile_path\u001b[0m\u001b[0;34m,\u001b[0m \u001b[0;34m'r'\u001b[0m\u001b[0;34m)\u001b[0m \u001b[0;32mas\u001b[0m \u001b[0mfile\u001b[0m\u001b[0;34m:\u001b[0m\u001b[0;34m\u001b[0m\u001b[0;34m\u001b[0m\u001b[0m\n\u001b[0m\u001b[1;32m     12\u001b[0m         \u001b[0mcontent\u001b[0m \u001b[0;34m=\u001b[0m \u001b[0mfile\u001b[0m\u001b[0;34m.\u001b[0m\u001b[0mread\u001b[0m\u001b[0;34m(\u001b[0m\u001b[0;34m)\u001b[0m\u001b[0;34m\u001b[0m\u001b[0;34m\u001b[0m\u001b[0m\n\u001b[1;32m     13\u001b[0m     \u001b[0;32mreturn\u001b[0m \u001b[0mcontent\u001b[0m\u001b[0;34m\u001b[0m\u001b[0;34m\u001b[0m\u001b[0m\n",
            "\u001b[0;31mFileNotFoundError\u001b[0m: [Errno 2] No such file or directory: 'sample_email.txt'"
          ]
        }
      ]
    },
    {
      "cell_type": "code",
      "source": [
        "sample_email_content = \"\"\"\n",
        "From: sender@example.com\n",
        "To: recipient@example.com\n",
        "Subject: Test Email\n",
        "\n",
        "Dear recipient,\n",
        "\n",
        "This is a sample email for testing purposes. Please ignore this email.\n",
        "\n",
        "Thank you,\n",
        "Sender\n",
        "\"\"\"\n"
      ],
      "metadata": {
        "id": "k13qcRBJ_MfE"
      },
      "execution_count": 9,
      "outputs": []
    },
    {
      "cell_type": "code",
      "source": [
        "from sklearn.feature_extraction.text import TfidfVectorizer\n",
        "\n",
        "def extract_features(content):\n",
        "    vectorizer = TfidfVectorizer()\n",
        "    features = vectorizer.fit_transform([content])\n",
        "    return features\n"
      ],
      "metadata": {
        "id": "vb0Uk0iJ_1k-"
      },
      "execution_count": 3,
      "outputs": []
    },
    {
      "cell_type": "code",
      "source": [
        "sample_email_content = \"\"\"\n",
        "From: sender@example.com\n",
        "To: recipient@example.com\n",
        "Subject: Test Email\n",
        "\n",
        "Dear recipient,\n",
        "\n",
        "This is a sample email for testing purposes. Please ignore this email.\n",
        "\n",
        "Thank you,\n",
        "Sender\n",
        "\"\"\"\n",
        "\n",
        "email_features = extract_features(sample_email_content)\n"
      ],
      "metadata": {
        "id": "_T-CNkmbAFUg"
      },
      "execution_count": 5,
      "outputs": []
    },
    {
      "cell_type": "code",
      "source": [
        "!pip install preprocessing_functions\n",
        "!pip install feature_extraction_functions\n",
        "import preprocessing_functions\n",
        "import feature_extraction_functions\n",
        "import model_functions\n",
        "\n",
        "# Load the trained model\n",
        "model = model_functions.load_model('phishing_email_classifier_model.pkl')\n",
        "\n",
        "# Classify the email\n",
        "def classify_email(email_content):\n",
        "    preprocessed_content = preprocessing_functions.preprocess_email_content(email_content)\n",
        "    features = feature_extraction_functions.extract_features(preprocessed_content)\n",
        "    label = model.predict(features)\n",
        "    return label[0]\n",
        "\n",
        "# Display the label\n",
        "def display_label(label):\n",
        "    if label == 0:\n",
        "        print(\"Legitimate\")\n",
        "    elif label == 1:\n",
        "        print(\"Phishing\")\n",
        "    elif label == 2:\n",
        "        print(\"Spam\")\n",
        "    elif label == 3:\n",
        "        print(\"Warning\")\n",
        "\n",
        "# Example usage\n",
        "sample_email_content = \"\"\"\n",
        "From: sender@example.com\n",
        "To: recipient@example.com\n",
        "Subject: Test Email\n",
        "\n",
        "Dear recipient,\n",
        "\n",
        "This is a sample email for testing purposes. Please ignore this email.\n",
        "\n",
        "Thank you,\n",
        "Sender\n",
        "\"\"\"\n",
        "\n",
        "label = classify_email(sample_email_content)\n",
        "display_label(label)\n"
      ],
      "metadata": {
        "colab": {
          "base_uri": "https://localhost:8080/",
          "height": 470
        },
        "id": "7IoqEEs4_Ome",
        "outputId": "de4d863c-9248-4db3-a576-cc5f25d2c192"
      },
      "execution_count": 6,
      "outputs": [
        {
          "output_type": "stream",
          "name": "stdout",
          "text": [
            "Requirement already satisfied: preprocessing_functions in /usr/local/lib/python3.10/dist-packages (0.1.1)\n",
            "Requirement already satisfied: Pillow<9.0.0,>=8.3.1 in /usr/local/lib/python3.10/dist-packages (from preprocessing_functions) (8.4.0)\n",
            "Requirement already satisfied: numpy<2.0,>=1.19 in /usr/local/lib/python3.10/dist-packages (from preprocessing_functions) (1.25.2)\n",
            "\u001b[31mERROR: Could not find a version that satisfies the requirement feature_extraction_functions (from versions: none)\u001b[0m\u001b[31m\n",
            "\u001b[0m\u001b[31mERROR: No matching distribution found for feature_extraction_functions\u001b[0m\u001b[31m\n",
            "\u001b[0m"
          ]
        },
        {
          "output_type": "error",
          "ename": "ModuleNotFoundError",
          "evalue": "No module named 'feature_extraction_functions'",
          "traceback": [
            "\u001b[0;31m---------------------------------------------------------------------------\u001b[0m",
            "\u001b[0;31mModuleNotFoundError\u001b[0m                       Traceback (most recent call last)",
            "\u001b[0;32m<ipython-input-6-99f2fc3613bd>\u001b[0m in \u001b[0;36m<cell line: 4>\u001b[0;34m()\u001b[0m\n\u001b[1;32m      2\u001b[0m \u001b[0mget_ipython\u001b[0m\u001b[0;34m(\u001b[0m\u001b[0;34m)\u001b[0m\u001b[0;34m.\u001b[0m\u001b[0msystem\u001b[0m\u001b[0;34m(\u001b[0m\u001b[0;34m'pip install feature_extraction_functions'\u001b[0m\u001b[0;34m)\u001b[0m\u001b[0;34m\u001b[0m\u001b[0;34m\u001b[0m\u001b[0m\n\u001b[1;32m      3\u001b[0m \u001b[0;32mimport\u001b[0m \u001b[0mpreprocessing_functions\u001b[0m\u001b[0;34m\u001b[0m\u001b[0;34m\u001b[0m\u001b[0m\n\u001b[0;32m----> 4\u001b[0;31m \u001b[0;32mimport\u001b[0m \u001b[0mfeature_extraction_functions\u001b[0m\u001b[0;34m\u001b[0m\u001b[0;34m\u001b[0m\u001b[0m\n\u001b[0m\u001b[1;32m      5\u001b[0m \u001b[0;32mimport\u001b[0m \u001b[0mmodel_functions\u001b[0m\u001b[0;34m\u001b[0m\u001b[0;34m\u001b[0m\u001b[0m\n\u001b[1;32m      6\u001b[0m \u001b[0;34m\u001b[0m\u001b[0m\n",
            "\u001b[0;31mModuleNotFoundError\u001b[0m: No module named 'feature_extraction_functions'",
            "",
            "\u001b[0;31m---------------------------------------------------------------------------\u001b[0;32m\nNOTE: If your import is failing due to a missing package, you can\nmanually install dependencies using either !pip or !apt.\n\nTo view examples of installing some common dependencies, click the\n\"Open Examples\" button below.\n\u001b[0;31m---------------------------------------------------------------------------\u001b[0m\n"
          ],
          "errorDetails": {
            "actions": [
              {
                "action": "open_url",
                "actionText": "Open Examples",
                "url": "/notebooks/snippets/importing_libraries.ipynb"
              }
            ]
          }
        }
      ]
    },
    {
      "cell_type": "code",
      "source": [],
      "metadata": {
        "id": "odbp96q6_Zix"
      },
      "execution_count": null,
      "outputs": []
    }
  ]
}