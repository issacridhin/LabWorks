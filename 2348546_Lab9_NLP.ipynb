{
  "nbformat": 4,
  "nbformat_minor": 0,
  "metadata": {
    "colab": {
      "provenance": [],
      "include_colab_link": true
    },
    "kernelspec": {
      "name": "python3",
      "display_name": "Python 3"
    },
    "language_info": {
      "name": "python"
    }
  },
  "cells": [
    {
      "cell_type": "markdown",
      "metadata": {
        "id": "view-in-github",
        "colab_type": "text"
      },
      "source": [
        "<a href=\"https://colab.research.google.com/github/issacridhin/LabWorks/blob/NLP/2348546_Lab9_NLP.ipynb\" target=\"_parent\"><img src=\"https://colab.research.google.com/assets/colab-badge.svg\" alt=\"Open In Colab\"/></a>"
      ]
    },
    {
      "cell_type": "markdown",
      "source": [
        "Edit Distance"
      ],
      "metadata": {
        "id": "86Q33aCaaN_N"
      }
    },
    {
      "cell_type": "code",
      "execution_count": null,
      "metadata": {
        "id": "3VJ8pnhDfjbA"
      },
      "outputs": [],
      "source": [
        "import numpy as np"
      ]
    },
    {
      "cell_type": "code",
      "source": [
        "def levenshtein_distance(s1, s2):\n",
        "\n",
        "    #Computing the Levenshtein distance between two strings.\n",
        "    if len(s1) < len(s2):\n",
        "        return levenshtein_distance(s2, s1)\n",
        "\n",
        "    # memoization matrix to store intermediate distances\n",
        "    distances = [[0] * (len(s2) + 1) for _ in range(2)]\n",
        "\n",
        "    # Initializing the first row\n",
        "    for j in range(len(s2) + 1):\n",
        "        distances[0][j] = j\n",
        "\n",
        "    for i in range(1, len(s1) + 1):\n",
        "        current_row = i % 2\n",
        "        prev_row = (i - 1) % 2\n",
        "        distances[current_row][0] = i\n",
        "        for j in range(1, len(s2) + 1):\n",
        "            cost = 0 if s1[i - 1] == s2[j - 1] else 1\n",
        "            distances[current_row][j] = min(distances[prev_row][j] + 1,      # deletion operation\n",
        "                                            distances[current_row][j - 1] + 1,  # insertion operation\n",
        "                                            distances[prev_row][j - 1] + cost)   # substitution operation\n",
        "    return distances[len(s1) % 2][len(s2)]"
      ],
      "metadata": {
        "id": "LEpYtDPY3JzC"
      },
      "execution_count": null,
      "outputs": []
    },
    {
      "cell_type": "code",
      "source": [
        "def corpus_edit_distance(corpus1, corpus2):\n",
        "    #Computing the edit distance between two text corpus.\n",
        "    total_distance = 0\n",
        "    num_pairs = min(len(corpus1), len(corpus2))\n",
        "    for i in range(num_pairs):\n",
        "        total_distance += levenshtein_distance(corpus1[i], corpus2[i])\n",
        "    return total_distance / num_pairs"
      ],
      "metadata": {
        "id": "SZDreHQ-YwV8"
      },
      "execution_count": null,
      "outputs": []
    },
    {
      "cell_type": "code",
      "source": [
        "corpus1 = [ \"My dad is sick\"]\n",
        "corpus2 = [ \"My mom is old\"]\n",
        "edit_distance = corpus_edit_distance(corpus1, corpus2)\n",
        "print(\"Average edit distance between the two corpora:\", edit_distance)"
      ],
      "metadata": {
        "colab": {
          "base_uri": "https://localhost:8080/"
        },
        "id": "N0Ef60KGY3ve",
        "outputId": "676be6fb-91b7-49d0-d5c1-92f6f9f67f9a"
      },
      "execution_count": null,
      "outputs": [
        {
          "output_type": "stream",
          "name": "stdout",
          "text": [
            "Average edit distance between the two corpora: 7.0\n"
          ]
        }
      ]
    },
    {
      "cell_type": "markdown",
      "source": [
        "A lower edit distance  indicates greater similarity between the corpora, while a higher edit distance suggests more differences."
      ],
      "metadata": {
        "id": "Gf8V6hVNI87t"
      }
    },
    {
      "cell_type": "markdown",
      "source": [
        "Q2, NLG story/poem"
      ],
      "metadata": {
        "id": "4b4H368jaJv5"
      }
    },
    {
      "cell_type": "code",
      "source": [
        "import nltk\n",
        "nltk.download('wordnet')"
      ],
      "metadata": {
        "id": "tiSYwkx3aI4I",
        "colab": {
          "base_uri": "https://localhost:8080/"
        },
        "outputId": "8e4ccde9-8510-4b38-bf94-4c1754783623"
      },
      "execution_count": null,
      "outputs": [
        {
          "output_type": "stream",
          "name": "stderr",
          "text": [
            "[nltk_data] Downloading package wordnet to /root/nltk_data...\n"
          ]
        },
        {
          "output_type": "execute_result",
          "data": {
            "text/plain": [
              "True"
            ]
          },
          "metadata": {},
          "execution_count": 1
        }
      ]
    },
    {
      "cell_type": "code",
      "source": [
        "import random\n",
        "from nltk.corpus import wordnet\n",
        "\n",
        "def generate_story(keywords):\n",
        "    story = \"\"\n",
        "    for keyword in keywords:\n",
        "        synsets = wordnet.synsets(keyword)\n",
        "        if synsets:\n",
        "            random_synset = random.choice(synsets)\n",
        "            story += random_synset.definition() + \" \"\n",
        "        else:\n",
        "            story += \"No information found for '\" + keyword + \"'. \"\n",
        "    return story\n",
        "\n",
        "# Example usage:\n",
        "keywords = [\"ghost\", \"god\", \"devil\"]\n",
        "print(\"Generated Story:\")\n",
        "print(generate_story(keywords))"
      ],
      "metadata": {
        "id": "OmTso9JzIuvU",
        "colab": {
          "base_uri": "https://localhost:8080/"
        },
        "outputId": "b81cdf74-25f1-4d0d-a19c-7cc166fb08bc"
      },
      "execution_count": null,
      "outputs": [
        {
          "output_type": "stream",
          "name": "stdout",
          "text": [
            "Generated Story:\n",
            "the visible disembodied soul of a dead person a material effigy that is worshipped a cruel wicked and inhuman person \n"
          ]
        }
      ]
    },
    {
      "cell_type": "code",
      "source": [],
      "metadata": {
        "id": "TpBknnDkWSdW"
      },
      "execution_count": null,
      "outputs": []
    }
  ]
}