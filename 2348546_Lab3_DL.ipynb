{
  "nbformat": 4,
  "nbformat_minor": 0,
  "metadata": {
    "colab": {
      "provenance": [],
      "include_colab_link": true
    },
    "kernelspec": {
      "name": "python3",
      "display_name": "Python 3"
    },
    "language_info": {
      "name": "python"
    }
  },
  "cells": [
    {
      "cell_type": "markdown",
      "metadata": {
        "id": "view-in-github",
        "colab_type": "text"
      },
      "source": [
        "<a href=\"https://colab.research.google.com/github/issacridhin/LabWorks/blob/DL/2348546_Lab3_DL.ipynb\" target=\"_parent\"><img src=\"https://colab.research.google.com/assets/colab-badge.svg\" alt=\"Open In Colab\"/></a>"
      ]
    },
    {
      "cell_type": "markdown",
      "source": [
        "Q1."
      ],
      "metadata": {
        "id": "g0LEW7wNUjPP"
      }
    },
    {
      "cell_type": "code",
      "execution_count": 1,
      "metadata": {
        "colab": {
          "base_uri": "https://localhost:8080/"
        },
        "id": "Sx8DqjyeHmgs",
        "outputId": "1d0d2116-21fb-41f4-9cdb-2e5f2ab91075"
      },
      "outputs": [
        {
          "output_type": "stream",
          "name": "stdout",
          "text": [
            "For iteration  1  Price:  20.1  Revenue cost:  -300.995\n",
            "For iteration  2  Price:  20.289  Revenue cost:  -302.84823950000003\n",
            "For iteration  3  Price:  20.55621  Revenue cost:  -305.40741521794996\n"
          ]
        }
      ],
      "source": [
        "import numpy as np\n",
        "\n",
        "def eqxn(x):\n",
        "    return (0.5*(x**2))-(30*x)+(100)\n",
        "\n",
        "# derivative\n",
        "def eqxn_derivative(x):\n",
        "    return x - 30\n",
        "\n",
        "#starting value, momentum term\n",
        "x = 20\n",
        "A = 0.1\n",
        "m = 0.9\n",
        "\n",
        "#momentum initializing it to 0\n",
        "iv=0\n",
        "#for 3 iterations\n",
        "i=3\n",
        "for iter in range(i):\n",
        "\n",
        "    a1 = eqxn_derivative(x)\n",
        "    #updating momentum\n",
        "    iv = m * iv + (1-m) * a1\n",
        "\n",
        "    x = x - A * iv\n",
        "    cost = eqxn(x)\n",
        "    #to print 3 iterations.\n",
        "    print(\"For iteration \",iter+1,\" Price: \",x, \" Revenue cost: \",cost)\n"
      ]
    },
    {
      "cell_type": "code",
      "source": [
        "#to find the optimal price\n",
        "i=500\n",
        "for iter in range(i):\n",
        "\n",
        "    a1 = eqxn_derivative(x)\n",
        "    #updating momentum\n",
        "    iv = m * iv + (1-m) * a1\n",
        "\n",
        "    x = x - A * iv\n",
        "    cost = eqxn(x)\n",
        "\n",
        "print(\"Optimal Price:\", x)"
      ],
      "metadata": {
        "colab": {
          "base_uri": "https://localhost:8080/"
        },
        "id": "1SZDwMkLRKOl",
        "outputId": "837b83e9-afa2-44cc-d3a9-ebe4e66f27c9"
      },
      "execution_count": 2,
      "outputs": [
        {
          "output_type": "stream",
          "name": "stdout",
          "text": [
            "Optimal Price: 29.999999999965066\n"
          ]
        }
      ]
    },
    {
      "cell_type": "markdown",
      "source": [
        "Q2."
      ],
      "metadata": {
        "id": "XmWOTwpsUhH8"
      }
    },
    {
      "cell_type": "code",
      "source": [
        "import pandas as pd\n",
        "import matplotlib.pyplot as plt\n",
        "import seaborn as sns\n",
        "from sklearn.preprocessing import LabelEncoder, StandardScaler\n",
        "from sklearn.model_selection import train_test_split\n",
        "from sklearn.metrics import accuracy_score, precision_score, recall_score, f1_score, confusion_matrix, roc_curve, auc\n",
        "import tensorflow as tf\n",
        "from tensorflow.keras.models import Sequential\n",
        "from tensorflow.keras.regularizers import l1, l2, l1_l2\n",
        "from tensorflow.keras.layers import Dense\n",
        "from tensorflow.keras import regularizers"
      ],
      "metadata": {
        "id": "ojn-EhQwOko8"
      },
      "execution_count": 3,
      "outputs": []
    },
    {
      "cell_type": "code",
      "source": [
        "df=pd.read_csv('/content/breast-cancer.csv')\n",
        "df"
      ],
      "metadata": {
        "colab": {
          "base_uri": "https://localhost:8080/",
          "height": 461
        },
        "id": "_pEwEuE-0SVt",
        "outputId": "aaf9cb1a-f9dc-4602-c5f1-460155fcb718"
      },
      "execution_count": 4,
      "outputs": [
        {
          "output_type": "execute_result",
          "data": {
            "text/plain": [
              "           id diagnosis  radius_mean  texture_mean  perimeter_mean  area_mean  \\\n",
              "0      842302         M        17.99         10.38          122.80     1001.0   \n",
              "1      842517         M        20.57         17.77          132.90     1326.0   \n",
              "2    84300903         M        19.69         21.25          130.00     1203.0   \n",
              "3    84348301         M        11.42         20.38           77.58      386.1   \n",
              "4    84358402         M        20.29         14.34          135.10     1297.0   \n",
              "..        ...       ...          ...           ...             ...        ...   \n",
              "564    926424         M        21.56         22.39          142.00     1479.0   \n",
              "565    926682         M        20.13         28.25          131.20     1261.0   \n",
              "566    926954         M        16.60         28.08          108.30      858.1   \n",
              "567    927241         M        20.60         29.33          140.10     1265.0   \n",
              "568     92751         B         7.76         24.54           47.92      181.0   \n",
              "\n",
              "     smoothness_mean  compactness_mean  concavity_mean  concave points_mean  \\\n",
              "0            0.11840           0.27760         0.30010              0.14710   \n",
              "1            0.08474           0.07864         0.08690              0.07017   \n",
              "2            0.10960           0.15990         0.19740              0.12790   \n",
              "3            0.14250           0.28390         0.24140              0.10520   \n",
              "4            0.10030           0.13280         0.19800              0.10430   \n",
              "..               ...               ...             ...                  ...   \n",
              "564          0.11100           0.11590         0.24390              0.13890   \n",
              "565          0.09780           0.10340         0.14400              0.09791   \n",
              "566          0.08455           0.10230         0.09251              0.05302   \n",
              "567          0.11780           0.27700         0.35140              0.15200   \n",
              "568          0.05263           0.04362         0.00000              0.00000   \n",
              "\n",
              "     ...  radius_worst  texture_worst  perimeter_worst  area_worst  \\\n",
              "0    ...        25.380          17.33           184.60      2019.0   \n",
              "1    ...        24.990          23.41           158.80      1956.0   \n",
              "2    ...        23.570          25.53           152.50      1709.0   \n",
              "3    ...        14.910          26.50            98.87       567.7   \n",
              "4    ...        22.540          16.67           152.20      1575.0   \n",
              "..   ...           ...            ...              ...         ...   \n",
              "564  ...        25.450          26.40           166.10      2027.0   \n",
              "565  ...        23.690          38.25           155.00      1731.0   \n",
              "566  ...        18.980          34.12           126.70      1124.0   \n",
              "567  ...        25.740          39.42           184.60      1821.0   \n",
              "568  ...         9.456          30.37            59.16       268.6   \n",
              "\n",
              "     smoothness_worst  compactness_worst  concavity_worst  \\\n",
              "0             0.16220            0.66560           0.7119   \n",
              "1             0.12380            0.18660           0.2416   \n",
              "2             0.14440            0.42450           0.4504   \n",
              "3             0.20980            0.86630           0.6869   \n",
              "4             0.13740            0.20500           0.4000   \n",
              "..                ...                ...              ...   \n",
              "564           0.14100            0.21130           0.4107   \n",
              "565           0.11660            0.19220           0.3215   \n",
              "566           0.11390            0.30940           0.3403   \n",
              "567           0.16500            0.86810           0.9387   \n",
              "568           0.08996            0.06444           0.0000   \n",
              "\n",
              "     concave points_worst  symmetry_worst  fractal_dimension_worst  \n",
              "0                  0.2654          0.4601                  0.11890  \n",
              "1                  0.1860          0.2750                  0.08902  \n",
              "2                  0.2430          0.3613                  0.08758  \n",
              "3                  0.2575          0.6638                  0.17300  \n",
              "4                  0.1625          0.2364                  0.07678  \n",
              "..                    ...             ...                      ...  \n",
              "564                0.2216          0.2060                  0.07115  \n",
              "565                0.1628          0.2572                  0.06637  \n",
              "566                0.1418          0.2218                  0.07820  \n",
              "567                0.2650          0.4087                  0.12400  \n",
              "568                0.0000          0.2871                  0.07039  \n",
              "\n",
              "[569 rows x 32 columns]"
            ],
            "text/html": [
              "\n",
              "  <div id=\"df-0a857f69-48fb-4c48-ad19-dd7215681e09\" class=\"colab-df-container\">\n",
              "    <div>\n",
              "<style scoped>\n",
              "    .dataframe tbody tr th:only-of-type {\n",
              "        vertical-align: middle;\n",
              "    }\n",
              "\n",
              "    .dataframe tbody tr th {\n",
              "        vertical-align: top;\n",
              "    }\n",
              "\n",
              "    .dataframe thead th {\n",
              "        text-align: right;\n",
              "    }\n",
              "</style>\n",
              "<table border=\"1\" class=\"dataframe\">\n",
              "  <thead>\n",
              "    <tr style=\"text-align: right;\">\n",
              "      <th></th>\n",
              "      <th>id</th>\n",
              "      <th>diagnosis</th>\n",
              "      <th>radius_mean</th>\n",
              "      <th>texture_mean</th>\n",
              "      <th>perimeter_mean</th>\n",
              "      <th>area_mean</th>\n",
              "      <th>smoothness_mean</th>\n",
              "      <th>compactness_mean</th>\n",
              "      <th>concavity_mean</th>\n",
              "      <th>concave points_mean</th>\n",
              "      <th>...</th>\n",
              "      <th>radius_worst</th>\n",
              "      <th>texture_worst</th>\n",
              "      <th>perimeter_worst</th>\n",
              "      <th>area_worst</th>\n",
              "      <th>smoothness_worst</th>\n",
              "      <th>compactness_worst</th>\n",
              "      <th>concavity_worst</th>\n",
              "      <th>concave points_worst</th>\n",
              "      <th>symmetry_worst</th>\n",
              "      <th>fractal_dimension_worst</th>\n",
              "    </tr>\n",
              "  </thead>\n",
              "  <tbody>\n",
              "    <tr>\n",
              "      <th>0</th>\n",
              "      <td>842302</td>\n",
              "      <td>M</td>\n",
              "      <td>17.99</td>\n",
              "      <td>10.38</td>\n",
              "      <td>122.80</td>\n",
              "      <td>1001.0</td>\n",
              "      <td>0.11840</td>\n",
              "      <td>0.27760</td>\n",
              "      <td>0.30010</td>\n",
              "      <td>0.14710</td>\n",
              "      <td>...</td>\n",
              "      <td>25.380</td>\n",
              "      <td>17.33</td>\n",
              "      <td>184.60</td>\n",
              "      <td>2019.0</td>\n",
              "      <td>0.16220</td>\n",
              "      <td>0.66560</td>\n",
              "      <td>0.7119</td>\n",
              "      <td>0.2654</td>\n",
              "      <td>0.4601</td>\n",
              "      <td>0.11890</td>\n",
              "    </tr>\n",
              "    <tr>\n",
              "      <th>1</th>\n",
              "      <td>842517</td>\n",
              "      <td>M</td>\n",
              "      <td>20.57</td>\n",
              "      <td>17.77</td>\n",
              "      <td>132.90</td>\n",
              "      <td>1326.0</td>\n",
              "      <td>0.08474</td>\n",
              "      <td>0.07864</td>\n",
              "      <td>0.08690</td>\n",
              "      <td>0.07017</td>\n",
              "      <td>...</td>\n",
              "      <td>24.990</td>\n",
              "      <td>23.41</td>\n",
              "      <td>158.80</td>\n",
              "      <td>1956.0</td>\n",
              "      <td>0.12380</td>\n",
              "      <td>0.18660</td>\n",
              "      <td>0.2416</td>\n",
              "      <td>0.1860</td>\n",
              "      <td>0.2750</td>\n",
              "      <td>0.08902</td>\n",
              "    </tr>\n",
              "    <tr>\n",
              "      <th>2</th>\n",
              "      <td>84300903</td>\n",
              "      <td>M</td>\n",
              "      <td>19.69</td>\n",
              "      <td>21.25</td>\n",
              "      <td>130.00</td>\n",
              "      <td>1203.0</td>\n",
              "      <td>0.10960</td>\n",
              "      <td>0.15990</td>\n",
              "      <td>0.19740</td>\n",
              "      <td>0.12790</td>\n",
              "      <td>...</td>\n",
              "      <td>23.570</td>\n",
              "      <td>25.53</td>\n",
              "      <td>152.50</td>\n",
              "      <td>1709.0</td>\n",
              "      <td>0.14440</td>\n",
              "      <td>0.42450</td>\n",
              "      <td>0.4504</td>\n",
              "      <td>0.2430</td>\n",
              "      <td>0.3613</td>\n",
              "      <td>0.08758</td>\n",
              "    </tr>\n",
              "    <tr>\n",
              "      <th>3</th>\n",
              "      <td>84348301</td>\n",
              "      <td>M</td>\n",
              "      <td>11.42</td>\n",
              "      <td>20.38</td>\n",
              "      <td>77.58</td>\n",
              "      <td>386.1</td>\n",
              "      <td>0.14250</td>\n",
              "      <td>0.28390</td>\n",
              "      <td>0.24140</td>\n",
              "      <td>0.10520</td>\n",
              "      <td>...</td>\n",
              "      <td>14.910</td>\n",
              "      <td>26.50</td>\n",
              "      <td>98.87</td>\n",
              "      <td>567.7</td>\n",
              "      <td>0.20980</td>\n",
              "      <td>0.86630</td>\n",
              "      <td>0.6869</td>\n",
              "      <td>0.2575</td>\n",
              "      <td>0.6638</td>\n",
              "      <td>0.17300</td>\n",
              "    </tr>\n",
              "    <tr>\n",
              "      <th>4</th>\n",
              "      <td>84358402</td>\n",
              "      <td>M</td>\n",
              "      <td>20.29</td>\n",
              "      <td>14.34</td>\n",
              "      <td>135.10</td>\n",
              "      <td>1297.0</td>\n",
              "      <td>0.10030</td>\n",
              "      <td>0.13280</td>\n",
              "      <td>0.19800</td>\n",
              "      <td>0.10430</td>\n",
              "      <td>...</td>\n",
              "      <td>22.540</td>\n",
              "      <td>16.67</td>\n",
              "      <td>152.20</td>\n",
              "      <td>1575.0</td>\n",
              "      <td>0.13740</td>\n",
              "      <td>0.20500</td>\n",
              "      <td>0.4000</td>\n",
              "      <td>0.1625</td>\n",
              "      <td>0.2364</td>\n",
              "      <td>0.07678</td>\n",
              "    </tr>\n",
              "    <tr>\n",
              "      <th>...</th>\n",
              "      <td>...</td>\n",
              "      <td>...</td>\n",
              "      <td>...</td>\n",
              "      <td>...</td>\n",
              "      <td>...</td>\n",
              "      <td>...</td>\n",
              "      <td>...</td>\n",
              "      <td>...</td>\n",
              "      <td>...</td>\n",
              "      <td>...</td>\n",
              "      <td>...</td>\n",
              "      <td>...</td>\n",
              "      <td>...</td>\n",
              "      <td>...</td>\n",
              "      <td>...</td>\n",
              "      <td>...</td>\n",
              "      <td>...</td>\n",
              "      <td>...</td>\n",
              "      <td>...</td>\n",
              "      <td>...</td>\n",
              "      <td>...</td>\n",
              "    </tr>\n",
              "    <tr>\n",
              "      <th>564</th>\n",
              "      <td>926424</td>\n",
              "      <td>M</td>\n",
              "      <td>21.56</td>\n",
              "      <td>22.39</td>\n",
              "      <td>142.00</td>\n",
              "      <td>1479.0</td>\n",
              "      <td>0.11100</td>\n",
              "      <td>0.11590</td>\n",
              "      <td>0.24390</td>\n",
              "      <td>0.13890</td>\n",
              "      <td>...</td>\n",
              "      <td>25.450</td>\n",
              "      <td>26.40</td>\n",
              "      <td>166.10</td>\n",
              "      <td>2027.0</td>\n",
              "      <td>0.14100</td>\n",
              "      <td>0.21130</td>\n",
              "      <td>0.4107</td>\n",
              "      <td>0.2216</td>\n",
              "      <td>0.2060</td>\n",
              "      <td>0.07115</td>\n",
              "    </tr>\n",
              "    <tr>\n",
              "      <th>565</th>\n",
              "      <td>926682</td>\n",
              "      <td>M</td>\n",
              "      <td>20.13</td>\n",
              "      <td>28.25</td>\n",
              "      <td>131.20</td>\n",
              "      <td>1261.0</td>\n",
              "      <td>0.09780</td>\n",
              "      <td>0.10340</td>\n",
              "      <td>0.14400</td>\n",
              "      <td>0.09791</td>\n",
              "      <td>...</td>\n",
              "      <td>23.690</td>\n",
              "      <td>38.25</td>\n",
              "      <td>155.00</td>\n",
              "      <td>1731.0</td>\n",
              "      <td>0.11660</td>\n",
              "      <td>0.19220</td>\n",
              "      <td>0.3215</td>\n",
              "      <td>0.1628</td>\n",
              "      <td>0.2572</td>\n",
              "      <td>0.06637</td>\n",
              "    </tr>\n",
              "    <tr>\n",
              "      <th>566</th>\n",
              "      <td>926954</td>\n",
              "      <td>M</td>\n",
              "      <td>16.60</td>\n",
              "      <td>28.08</td>\n",
              "      <td>108.30</td>\n",
              "      <td>858.1</td>\n",
              "      <td>0.08455</td>\n",
              "      <td>0.10230</td>\n",
              "      <td>0.09251</td>\n",
              "      <td>0.05302</td>\n",
              "      <td>...</td>\n",
              "      <td>18.980</td>\n",
              "      <td>34.12</td>\n",
              "      <td>126.70</td>\n",
              "      <td>1124.0</td>\n",
              "      <td>0.11390</td>\n",
              "      <td>0.30940</td>\n",
              "      <td>0.3403</td>\n",
              "      <td>0.1418</td>\n",
              "      <td>0.2218</td>\n",
              "      <td>0.07820</td>\n",
              "    </tr>\n",
              "    <tr>\n",
              "      <th>567</th>\n",
              "      <td>927241</td>\n",
              "      <td>M</td>\n",
              "      <td>20.60</td>\n",
              "      <td>29.33</td>\n",
              "      <td>140.10</td>\n",
              "      <td>1265.0</td>\n",
              "      <td>0.11780</td>\n",
              "      <td>0.27700</td>\n",
              "      <td>0.35140</td>\n",
              "      <td>0.15200</td>\n",
              "      <td>...</td>\n",
              "      <td>25.740</td>\n",
              "      <td>39.42</td>\n",
              "      <td>184.60</td>\n",
              "      <td>1821.0</td>\n",
              "      <td>0.16500</td>\n",
              "      <td>0.86810</td>\n",
              "      <td>0.9387</td>\n",
              "      <td>0.2650</td>\n",
              "      <td>0.4087</td>\n",
              "      <td>0.12400</td>\n",
              "    </tr>\n",
              "    <tr>\n",
              "      <th>568</th>\n",
              "      <td>92751</td>\n",
              "      <td>B</td>\n",
              "      <td>7.76</td>\n",
              "      <td>24.54</td>\n",
              "      <td>47.92</td>\n",
              "      <td>181.0</td>\n",
              "      <td>0.05263</td>\n",
              "      <td>0.04362</td>\n",
              "      <td>0.00000</td>\n",
              "      <td>0.00000</td>\n",
              "      <td>...</td>\n",
              "      <td>9.456</td>\n",
              "      <td>30.37</td>\n",
              "      <td>59.16</td>\n",
              "      <td>268.6</td>\n",
              "      <td>0.08996</td>\n",
              "      <td>0.06444</td>\n",
              "      <td>0.0000</td>\n",
              "      <td>0.0000</td>\n",
              "      <td>0.2871</td>\n",
              "      <td>0.07039</td>\n",
              "    </tr>\n",
              "  </tbody>\n",
              "</table>\n",
              "<p>569 rows × 32 columns</p>\n",
              "</div>\n",
              "    <div class=\"colab-df-buttons\">\n",
              "\n",
              "  <div class=\"colab-df-container\">\n",
              "    <button class=\"colab-df-convert\" onclick=\"convertToInteractive('df-0a857f69-48fb-4c48-ad19-dd7215681e09')\"\n",
              "            title=\"Convert this dataframe to an interactive table.\"\n",
              "            style=\"display:none;\">\n",
              "\n",
              "  <svg xmlns=\"http://www.w3.org/2000/svg\" height=\"24px\" viewBox=\"0 -960 960 960\">\n",
              "    <path d=\"M120-120v-720h720v720H120Zm60-500h600v-160H180v160Zm220 220h160v-160H400v160Zm0 220h160v-160H400v160ZM180-400h160v-160H180v160Zm440 0h160v-160H620v160ZM180-180h160v-160H180v160Zm440 0h160v-160H620v160Z\"/>\n",
              "  </svg>\n",
              "    </button>\n",
              "\n",
              "  <style>\n",
              "    .colab-df-container {\n",
              "      display:flex;\n",
              "      gap: 12px;\n",
              "    }\n",
              "\n",
              "    .colab-df-convert {\n",
              "      background-color: #E8F0FE;\n",
              "      border: none;\n",
              "      border-radius: 50%;\n",
              "      cursor: pointer;\n",
              "      display: none;\n",
              "      fill: #1967D2;\n",
              "      height: 32px;\n",
              "      padding: 0 0 0 0;\n",
              "      width: 32px;\n",
              "    }\n",
              "\n",
              "    .colab-df-convert:hover {\n",
              "      background-color: #E2EBFA;\n",
              "      box-shadow: 0px 1px 2px rgba(60, 64, 67, 0.3), 0px 1px 3px 1px rgba(60, 64, 67, 0.15);\n",
              "      fill: #174EA6;\n",
              "    }\n",
              "\n",
              "    .colab-df-buttons div {\n",
              "      margin-bottom: 4px;\n",
              "    }\n",
              "\n",
              "    [theme=dark] .colab-df-convert {\n",
              "      background-color: #3B4455;\n",
              "      fill: #D2E3FC;\n",
              "    }\n",
              "\n",
              "    [theme=dark] .colab-df-convert:hover {\n",
              "      background-color: #434B5C;\n",
              "      box-shadow: 0px 1px 3px 1px rgba(0, 0, 0, 0.15);\n",
              "      filter: drop-shadow(0px 1px 2px rgba(0, 0, 0, 0.3));\n",
              "      fill: #FFFFFF;\n",
              "    }\n",
              "  </style>\n",
              "\n",
              "    <script>\n",
              "      const buttonEl =\n",
              "        document.querySelector('#df-0a857f69-48fb-4c48-ad19-dd7215681e09 button.colab-df-convert');\n",
              "      buttonEl.style.display =\n",
              "        google.colab.kernel.accessAllowed ? 'block' : 'none';\n",
              "\n",
              "      async function convertToInteractive(key) {\n",
              "        const element = document.querySelector('#df-0a857f69-48fb-4c48-ad19-dd7215681e09');\n",
              "        const dataTable =\n",
              "          await google.colab.kernel.invokeFunction('convertToInteractive',\n",
              "                                                    [key], {});\n",
              "        if (!dataTable) return;\n",
              "\n",
              "        const docLinkHtml = 'Like what you see? Visit the ' +\n",
              "          '<a target=\"_blank\" href=https://colab.research.google.com/notebooks/data_table.ipynb>data table notebook</a>'\n",
              "          + ' to learn more about interactive tables.';\n",
              "        element.innerHTML = '';\n",
              "        dataTable['output_type'] = 'display_data';\n",
              "        await google.colab.output.renderOutput(dataTable, element);\n",
              "        const docLink = document.createElement('div');\n",
              "        docLink.innerHTML = docLinkHtml;\n",
              "        element.appendChild(docLink);\n",
              "      }\n",
              "    </script>\n",
              "  </div>\n",
              "\n",
              "\n",
              "<div id=\"df-7b103c23-0256-4b34-afdc-69c66e5720c7\">\n",
              "  <button class=\"colab-df-quickchart\" onclick=\"quickchart('df-7b103c23-0256-4b34-afdc-69c66e5720c7')\"\n",
              "            title=\"Suggest charts\"\n",
              "            style=\"display:none;\">\n",
              "\n",
              "<svg xmlns=\"http://www.w3.org/2000/svg\" height=\"24px\"viewBox=\"0 0 24 24\"\n",
              "     width=\"24px\">\n",
              "    <g>\n",
              "        <path d=\"M19 3H5c-1.1 0-2 .9-2 2v14c0 1.1.9 2 2 2h14c1.1 0 2-.9 2-2V5c0-1.1-.9-2-2-2zM9 17H7v-7h2v7zm4 0h-2V7h2v10zm4 0h-2v-4h2v4z\"/>\n",
              "    </g>\n",
              "</svg>\n",
              "  </button>\n",
              "\n",
              "<style>\n",
              "  .colab-df-quickchart {\n",
              "      --bg-color: #E8F0FE;\n",
              "      --fill-color: #1967D2;\n",
              "      --hover-bg-color: #E2EBFA;\n",
              "      --hover-fill-color: #174EA6;\n",
              "      --disabled-fill-color: #AAA;\n",
              "      --disabled-bg-color: #DDD;\n",
              "  }\n",
              "\n",
              "  [theme=dark] .colab-df-quickchart {\n",
              "      --bg-color: #3B4455;\n",
              "      --fill-color: #D2E3FC;\n",
              "      --hover-bg-color: #434B5C;\n",
              "      --hover-fill-color: #FFFFFF;\n",
              "      --disabled-bg-color: #3B4455;\n",
              "      --disabled-fill-color: #666;\n",
              "  }\n",
              "\n",
              "  .colab-df-quickchart {\n",
              "    background-color: var(--bg-color);\n",
              "    border: none;\n",
              "    border-radius: 50%;\n",
              "    cursor: pointer;\n",
              "    display: none;\n",
              "    fill: var(--fill-color);\n",
              "    height: 32px;\n",
              "    padding: 0;\n",
              "    width: 32px;\n",
              "  }\n",
              "\n",
              "  .colab-df-quickchart:hover {\n",
              "    background-color: var(--hover-bg-color);\n",
              "    box-shadow: 0 1px 2px rgba(60, 64, 67, 0.3), 0 1px 3px 1px rgba(60, 64, 67, 0.15);\n",
              "    fill: var(--button-hover-fill-color);\n",
              "  }\n",
              "\n",
              "  .colab-df-quickchart-complete:disabled,\n",
              "  .colab-df-quickchart-complete:disabled:hover {\n",
              "    background-color: var(--disabled-bg-color);\n",
              "    fill: var(--disabled-fill-color);\n",
              "    box-shadow: none;\n",
              "  }\n",
              "\n",
              "  .colab-df-spinner {\n",
              "    border: 2px solid var(--fill-color);\n",
              "    border-color: transparent;\n",
              "    border-bottom-color: var(--fill-color);\n",
              "    animation:\n",
              "      spin 1s steps(1) infinite;\n",
              "  }\n",
              "\n",
              "  @keyframes spin {\n",
              "    0% {\n",
              "      border-color: transparent;\n",
              "      border-bottom-color: var(--fill-color);\n",
              "      border-left-color: var(--fill-color);\n",
              "    }\n",
              "    20% {\n",
              "      border-color: transparent;\n",
              "      border-left-color: var(--fill-color);\n",
              "      border-top-color: var(--fill-color);\n",
              "    }\n",
              "    30% {\n",
              "      border-color: transparent;\n",
              "      border-left-color: var(--fill-color);\n",
              "      border-top-color: var(--fill-color);\n",
              "      border-right-color: var(--fill-color);\n",
              "    }\n",
              "    40% {\n",
              "      border-color: transparent;\n",
              "      border-right-color: var(--fill-color);\n",
              "      border-top-color: var(--fill-color);\n",
              "    }\n",
              "    60% {\n",
              "      border-color: transparent;\n",
              "      border-right-color: var(--fill-color);\n",
              "    }\n",
              "    80% {\n",
              "      border-color: transparent;\n",
              "      border-right-color: var(--fill-color);\n",
              "      border-bottom-color: var(--fill-color);\n",
              "    }\n",
              "    90% {\n",
              "      border-color: transparent;\n",
              "      border-bottom-color: var(--fill-color);\n",
              "    }\n",
              "  }\n",
              "</style>\n",
              "\n",
              "  <script>\n",
              "    async function quickchart(key) {\n",
              "      const quickchartButtonEl =\n",
              "        document.querySelector('#' + key + ' button');\n",
              "      quickchartButtonEl.disabled = true;  // To prevent multiple clicks.\n",
              "      quickchartButtonEl.classList.add('colab-df-spinner');\n",
              "      try {\n",
              "        const charts = await google.colab.kernel.invokeFunction(\n",
              "            'suggestCharts', [key], {});\n",
              "      } catch (error) {\n",
              "        console.error('Error during call to suggestCharts:', error);\n",
              "      }\n",
              "      quickchartButtonEl.classList.remove('colab-df-spinner');\n",
              "      quickchartButtonEl.classList.add('colab-df-quickchart-complete');\n",
              "    }\n",
              "    (() => {\n",
              "      let quickchartButtonEl =\n",
              "        document.querySelector('#df-7b103c23-0256-4b34-afdc-69c66e5720c7 button');\n",
              "      quickchartButtonEl.style.display =\n",
              "        google.colab.kernel.accessAllowed ? 'block' : 'none';\n",
              "    })();\n",
              "  </script>\n",
              "</div>\n",
              "    </div>\n",
              "  </div>\n"
            ],
            "application/vnd.google.colaboratory.intrinsic+json": {
              "type": "dataframe",
              "variable_name": "df"
            }
          },
          "metadata": {},
          "execution_count": 4
        }
      ]
    },
    {
      "cell_type": "code",
      "source": [
        "df.shape"
      ],
      "metadata": {
        "colab": {
          "base_uri": "https://localhost:8080/"
        },
        "id": "d65AbajK5vUN",
        "outputId": "69721d1c-09d1-48f2-ebee-ec7640444d8f"
      },
      "execution_count": 5,
      "outputs": [
        {
          "output_type": "execute_result",
          "data": {
            "text/plain": [
              "(569, 32)"
            ]
          },
          "metadata": {},
          "execution_count": 5
        }
      ]
    },
    {
      "cell_type": "code",
      "source": [
        "df.dtypes"
      ],
      "metadata": {
        "colab": {
          "base_uri": "https://localhost:8080/"
        },
        "id": "nzy7j6Dj5o_S",
        "outputId": "fd7b69fc-b7ae-431a-cf34-10751c9f3132"
      },
      "execution_count": 6,
      "outputs": [
        {
          "output_type": "execute_result",
          "data": {
            "text/plain": [
              "id                           int64\n",
              "diagnosis                   object\n",
              "radius_mean                float64\n",
              "texture_mean               float64\n",
              "perimeter_mean             float64\n",
              "area_mean                  float64\n",
              "smoothness_mean            float64\n",
              "compactness_mean           float64\n",
              "concavity_mean             float64\n",
              "concave points_mean        float64\n",
              "symmetry_mean              float64\n",
              "fractal_dimension_mean     float64\n",
              "radius_se                  float64\n",
              "texture_se                 float64\n",
              "perimeter_se               float64\n",
              "area_se                    float64\n",
              "smoothness_se              float64\n",
              "compactness_se             float64\n",
              "concavity_se               float64\n",
              "concave points_se          float64\n",
              "symmetry_se                float64\n",
              "fractal_dimension_se       float64\n",
              "radius_worst               float64\n",
              "texture_worst              float64\n",
              "perimeter_worst            float64\n",
              "area_worst                 float64\n",
              "smoothness_worst           float64\n",
              "compactness_worst          float64\n",
              "concavity_worst            float64\n",
              "concave points_worst       float64\n",
              "symmetry_worst             float64\n",
              "fractal_dimension_worst    float64\n",
              "dtype: object"
            ]
          },
          "metadata": {},
          "execution_count": 6
        }
      ]
    },
    {
      "cell_type": "code",
      "source": [
        "df.isnull().sum()"
      ],
      "metadata": {
        "colab": {
          "base_uri": "https://localhost:8080/"
        },
        "id": "Itj2gVdr5sG8",
        "outputId": "92314f76-5c1e-492e-c99a-d020cce0f269"
      },
      "execution_count": 7,
      "outputs": [
        {
          "output_type": "execute_result",
          "data": {
            "text/plain": [
              "id                         0\n",
              "diagnosis                  0\n",
              "radius_mean                0\n",
              "texture_mean               0\n",
              "perimeter_mean             0\n",
              "area_mean                  0\n",
              "smoothness_mean            0\n",
              "compactness_mean           0\n",
              "concavity_mean             0\n",
              "concave points_mean        0\n",
              "symmetry_mean              0\n",
              "fractal_dimension_mean     0\n",
              "radius_se                  0\n",
              "texture_se                 0\n",
              "perimeter_se               0\n",
              "area_se                    0\n",
              "smoothness_se              0\n",
              "compactness_se             0\n",
              "concavity_se               0\n",
              "concave points_se          0\n",
              "symmetry_se                0\n",
              "fractal_dimension_se       0\n",
              "radius_worst               0\n",
              "texture_worst              0\n",
              "perimeter_worst            0\n",
              "area_worst                 0\n",
              "smoothness_worst           0\n",
              "compactness_worst          0\n",
              "concavity_worst            0\n",
              "concave points_worst       0\n",
              "symmetry_worst             0\n",
              "fractal_dimension_worst    0\n",
              "dtype: int64"
            ]
          },
          "metadata": {},
          "execution_count": 7
        }
      ]
    },
    {
      "cell_type": "markdown",
      "source": [
        "No missing values"
      ],
      "metadata": {
        "id": "CKCvXl9y6W2e"
      }
    },
    {
      "cell_type": "markdown",
      "source": [
        "Target Columns:\n",
        "\n",
        "diagnosis\n",
        "\n",
        "whether tumor is malignant or benign\n",
        "Malignant is cancerous while benign is not."
      ],
      "metadata": {
        "id": "Uy3Fp-PT8LxW"
      }
    },
    {
      "cell_type": "markdown",
      "source": [
        "Checking for unbalanced Data"
      ],
      "metadata": {
        "id": "eco2tyFH8quf"
      }
    },
    {
      "cell_type": "code",
      "source": [
        "diag = df[\"diagnosis\"].value_counts()\n",
        "plt.figure(figsize=(10, 6))\n",
        "plt.subplot(1, 2, 1)\n",
        "plt.pie(diag, labels=[\"Malignant\", \"Benign\"], autopct=\"%.2f%%\")\n",
        "plt.title(\"Cancer Counts\")\n",
        "plt.tight_layout()\n",
        "plt.show()"
      ],
      "metadata": {
        "colab": {
          "base_uri": "https://localhost:8080/",
          "height": 536
        },
        "id": "whSldqWh5wol",
        "outputId": "7e084060-ce1e-410e-86e0-cfd0b6301c42"
      },
      "execution_count": 8,
      "outputs": [
        {
          "output_type": "display_data",
          "data": {
            "text/plain": [
              "<Figure size 1000x600 with 1 Axes>"
            ],
            "image/png": "[encoded data removed]"
          },
          "metadata": {}
        }
      ]
    },
    {
      "cell_type": "markdown",
      "source": [
        "not much imbalance is there so not needed."
      ],
      "metadata": {
        "id": "VWjlyTpR9JXt"
      }
    },
    {
      "cell_type": "code",
      "source": [
        "le = LabelEncoder()\n",
        "for column in df.columns:\n",
        "    if df[column].dtype == 'object':\n",
        "        df[column] = le.fit_transform(df[column])"
      ],
      "metadata": {
        "id": "f4AsuLHg9HKE"
      },
      "execution_count": 9,
      "outputs": []
    },
    {
      "cell_type": "code",
      "source": [
        "df.dtypes"
      ],
      "metadata": {
        "colab": {
          "base_uri": "https://localhost:8080/"
        },
        "id": "ctCtPV_Z9etc",
        "outputId": "8cd6ecd2-b16f-45d0-c4b7-6e08070584b3"
      },
      "execution_count": 10,
      "outputs": [
        {
          "output_type": "execute_result",
          "data": {
            "text/plain": [
              "id                           int64\n",
              "diagnosis                    int64\n",
              "radius_mean                float64\n",
              "texture_mean               float64\n",
              "perimeter_mean             float64\n",
              "area_mean                  float64\n",
              "smoothness_mean            float64\n",
              "compactness_mean           float64\n",
              "concavity_mean             float64\n",
              "concave points_mean        float64\n",
              "symmetry_mean              float64\n",
              "fractal_dimension_mean     float64\n",
              "radius_se                  float64\n",
              "texture_se                 float64\n",
              "perimeter_se               float64\n",
              "area_se                    float64\n",
              "smoothness_se              float64\n",
              "compactness_se             float64\n",
              "concavity_se               float64\n",
              "concave points_se          float64\n",
              "symmetry_se                float64\n",
              "fractal_dimension_se       float64\n",
              "radius_worst               float64\n",
              "texture_worst              float64\n",
              "perimeter_worst            float64\n",
              "area_worst                 float64\n",
              "smoothness_worst           float64\n",
              "compactness_worst          float64\n",
              "concavity_worst            float64\n",
              "concave points_worst       float64\n",
              "symmetry_worst             float64\n",
              "fractal_dimension_worst    float64\n",
              "dtype: object"
            ]
          },
          "metadata": {},
          "execution_count": 10
        }
      ]
    },
    {
      "cell_type": "markdown",
      "source": [
        "Training and Testing"
      ],
      "metadata": {
        "id": "LTBE19c6-jK8"
      }
    },
    {
      "cell_type": "markdown",
      "source": [
        "ID will be uniue so not that much used so dropping it."
      ],
      "metadata": {
        "id": "A7zMbf839lQP"
      }
    },
    {
      "cell_type": "code",
      "source": [
        "X = df.drop(columns=['diagnosis', 'id'])\n",
        "y = df['diagnosis']\n",
        "\n",
        "# training and testing dataset\n",
        "X_train, X_test, y_train, y_test = train_test_split(X, y, test_size=0.2, random_state=42)"
      ],
      "metadata": {
        "id": "uBRSF3c998-p"
      },
      "execution_count": 11,
      "outputs": []
    },
    {
      "cell_type": "markdown",
      "source": [
        "Scaling"
      ],
      "metadata": {
        "id": "XPbfDk_e-a7u"
      }
    },
    {
      "cell_type": "code",
      "source": [
        "scaler = StandardScaler()\n",
        "X_train = scaler.fit_transform(X_train)\n",
        "X_test = scaler.transform(X_test)"
      ],
      "metadata": {
        "id": "gIVnfntqAAKe"
      },
      "execution_count": 12,
      "outputs": []
    },
    {
      "cell_type": "markdown",
      "source": [
        "Model building"
      ],
      "metadata": {
        "id": "fNOCfzMvALCO"
      }
    },
    {
      "cell_type": "code",
      "source": [
        "model = Sequential()\n",
        "model.add(Dense(128, input_dim=X_train.shape[1], activation='relu', kernel_regularizer=regularizers.l1(0.01)))\n",
        "model.add(Dense(64, activation='relu', kernel_regularizer=regularizers.l2(0.01)))\n",
        "model.add(Dense(1, activation='sigmoid'))"
      ],
      "metadata": {
        "id": "zLkSY3kyAJZY"
      },
      "execution_count": 13,
      "outputs": []
    },
    {
      "cell_type": "code",
      "source": [
        "model2 = Sequential()\n",
        "model2.add(Dense(128, input_dim=X_train.shape[1], activation='relu', kernel_regularizer=regularizers.l2(0.01)))\n",
        "model2.add(Dense(64, activation='relu', kernel_regularizer=regularizers.l2(0.01)))\n",
        "model2.add(Dense(1, activation='sigmoid'))"
      ],
      "metadata": {
        "id": "TxhR9w2CEgnq"
      },
      "execution_count": 14,
      "outputs": []
    },
    {
      "cell_type": "code",
      "source": [
        "model3 = Sequential()\n",
        "model3.add(Dense(128, input_dim=X_train.shape[1], activation='relu', kernel_regularizer=l1_l2(l1=0.01, l2=0.01)))\n",
        "model3.add(Dense(64, activation='relu', kernel_regularizer=l1_l2(l1=0.01, l2=0.01)))\n",
        "model3.add(Dense(1, activation='sigmoid'))"
      ],
      "metadata": {
        "id": "iUgaAcTIEpsm"
      },
      "execution_count": 15,
      "outputs": []
    },
    {
      "cell_type": "code",
      "source": [
        "#Adam optimizer\n",
        "model.compile(optimizer='adam', loss='binary_crossentropy', metrics=['accuracy'])\n",
        "model2.compile(optimizer='adam', loss='binary_crossentropy', metrics=['accuracy'])\n",
        "model3.compile(optimizer='adam', loss='binary_crossentropy', metrics=['accuracy'])"
      ],
      "metadata": {
        "id": "UB9z2YrFAnUq"
      },
      "execution_count": 16,
      "outputs": []
    },
    {
      "cell_type": "code",
      "source": [
        "#model training\n",
        "mt = model.fit(X_train, y_train, epochs=100, batch_size=32, validation_split=0.2)"
      ],
      "metadata": {
        "colab": {
          "base_uri": "https://localhost:8080/"
        },
        "id": "Nr9B1DanAzeE",
        "outputId": "daea3fec-33ed-4443-c4eb-b4add06f785e"
      },
      "execution_count": 17,
      "outputs": [
        {
          "output_type": "stream",
          "name": "stdout",
          "text": [
            "Epoch 1/100\n",
            "12/12 [==============================] - 1s 25ms/step - loss: 4.9882 - accuracy: 0.8571 - val_loss: 4.5915 - val_accuracy: 0.9451\n",
            "Epoch 2/100\n",
            "12/12 [==============================] - 0s 7ms/step - loss: 4.3571 - accuracy: 0.9505 - val_loss: 4.0721 - val_accuracy: 0.9560\n",
            "Epoch 3/100\n",
            "12/12 [==============================] - 0s 7ms/step - loss: 3.8611 - accuracy: 0.9615 - val_loss: 3.6192 - val_accuracy: 0.9560\n",
            "Epoch 4/100\n",
            "12/12 [==============================] - 0s 6ms/step - loss: 3.4111 - accuracy: 0.9698 - val_loss: 3.1934 - val_accuracy: 0.9560\n",
            "Epoch 5/100\n",
            "12/12 [==============================] - 0s 5ms/step - loss: 2.9967 - accuracy: 0.9808 - val_loss: 2.8022 - val_accuracy: 0.9670\n",
            "Epoch 6/100\n",
            "12/12 [==============================] - 0s 5ms/step - loss: 2.6162 - accuracy: 0.9753 - val_loss: 2.4418 - val_accuracy: 0.9670\n",
            "Epoch 7/100\n",
            "12/12 [==============================] - 0s 5ms/step - loss: 2.2673 - accuracy: 0.9780 - val_loss: 2.1143 - val_accuracy: 0.9670\n",
            "Epoch 8/100\n",
            "12/12 [==============================] - 0s 6ms/step - loss: 1.9477 - accuracy: 0.9780 - val_loss: 1.8130 - val_accuracy: 0.9560\n",
            "Epoch 9/100\n",
            "12/12 [==============================] - 0s 7ms/step - loss: 1.6577 - accuracy: 0.9808 - val_loss: 1.5401 - val_accuracy: 0.9560\n",
            "Epoch 10/100\n",
            "12/12 [==============================] - 0s 6ms/step - loss: 1.3965 - accuracy: 0.9808 - val_loss: 1.2963 - val_accuracy: 0.9560\n",
            "Epoch 11/100\n",
            "12/12 [==============================] - 0s 6ms/step - loss: 1.1654 - accuracy: 0.9808 - val_loss: 1.0837 - val_accuracy: 0.9560\n",
            "Epoch 12/100\n",
            "12/12 [==============================] - 0s 6ms/step - loss: 0.9653 - accuracy: 0.9835 - val_loss: 0.9023 - val_accuracy: 0.9451\n",
            "Epoch 13/100\n",
            "12/12 [==============================] - 0s 6ms/step - loss: 0.7939 - accuracy: 0.9835 - val_loss: 0.7487 - val_accuracy: 0.9451\n",
            "Epoch 14/100\n",
            "12/12 [==============================] - 0s 5ms/step - loss: 0.6532 - accuracy: 0.9835 - val_loss: 0.6237 - val_accuracy: 0.9451\n",
            "Epoch 15/100\n",
            "12/12 [==============================] - 0s 5ms/step - loss: 0.5382 - accuracy: 0.9835 - val_loss: 0.5247 - val_accuracy: 0.9451\n",
            "Epoch 16/100\n",
            "12/12 [==============================] - 0s 6ms/step - loss: 0.4511 - accuracy: 0.9835 - val_loss: 0.4522 - val_accuracy: 0.9451\n",
            "Epoch 17/100\n",
            "12/12 [==============================] - 0s 5ms/step - loss: 0.3875 - accuracy: 0.9835 - val_loss: 0.4004 - val_accuracy: 0.9451\n",
            "Epoch 18/100\n",
            "12/12 [==============================] - 0s 7ms/step - loss: 0.3419 - accuracy: 0.9835 - val_loss: 0.3637 - val_accuracy: 0.9451\n",
            "Epoch 19/100\n",
            "12/12 [==============================] - 0s 7ms/step - loss: 0.3087 - accuracy: 0.9835 - val_loss: 0.3377 - val_accuracy: 0.9451\n",
            "Epoch 20/100\n",
            "12/12 [==============================] - 0s 6ms/step - loss: 0.2847 - accuracy: 0.9835 - val_loss: 0.3161 - val_accuracy: 0.9451\n",
            "Epoch 21/100\n",
            "12/12 [==============================] - 0s 5ms/step - loss: 0.2669 - accuracy: 0.9863 - val_loss: 0.3012 - val_accuracy: 0.9451\n",
            "Epoch 22/100\n",
            "12/12 [==============================] - 0s 7ms/step - loss: 0.2513 - accuracy: 0.9835 - val_loss: 0.2901 - val_accuracy: 0.9560\n",
            "Epoch 23/100\n",
            "12/12 [==============================] - 0s 5ms/step - loss: 0.2388 - accuracy: 0.9835 - val_loss: 0.2767 - val_accuracy: 0.9451\n",
            "Epoch 24/100\n",
            "12/12 [==============================] - 0s 7ms/step - loss: 0.2294 - accuracy: 0.9835 - val_loss: 0.2678 - val_accuracy: 0.9451\n",
            "Epoch 25/100\n",
            "12/12 [==============================] - 0s 7ms/step - loss: 0.2200 - accuracy: 0.9890 - val_loss: 0.2600 - val_accuracy: 0.9451\n",
            "Epoch 26/100\n",
            "12/12 [==============================] - 0s 7ms/step - loss: 0.2097 - accuracy: 0.9863 - val_loss: 0.2545 - val_accuracy: 0.9451\n",
            "Epoch 27/100\n",
            "12/12 [==============================] - 0s 7ms/step - loss: 0.2036 - accuracy: 0.9835 - val_loss: 0.2489 - val_accuracy: 0.9451\n",
            "Epoch 28/100\n",
            "12/12 [==============================] - 0s 6ms/step - loss: 0.1978 - accuracy: 0.9835 - val_loss: 0.2424 - val_accuracy: 0.9451\n",
            "Epoch 29/100\n",
            "12/12 [==============================] - 0s 6ms/step - loss: 0.1915 - accuracy: 0.9890 - val_loss: 0.2363 - val_accuracy: 0.9341\n",
            "Epoch 30/100\n",
            "12/12 [==============================] - 0s 6ms/step - loss: 0.1879 - accuracy: 0.9835 - val_loss: 0.2329 - val_accuracy: 0.9451\n",
            "Epoch 31/100\n",
            "12/12 [==============================] - 0s 7ms/step - loss: 0.1815 - accuracy: 0.9863 - val_loss: 0.2274 - val_accuracy: 0.9341\n",
            "Epoch 32/100\n",
            "12/12 [==============================] - 0s 6ms/step - loss: 0.1801 - accuracy: 0.9808 - val_loss: 0.2251 - val_accuracy: 0.9341\n",
            "Epoch 33/100\n",
            "12/12 [==============================] - 0s 7ms/step - loss: 0.1744 - accuracy: 0.9863 - val_loss: 0.2232 - val_accuracy: 0.9451\n",
            "Epoch 34/100\n",
            "12/12 [==============================] - 0s 6ms/step - loss: 0.1709 - accuracy: 0.9863 - val_loss: 0.2178 - val_accuracy: 0.9451\n",
            "Epoch 35/100\n",
            "12/12 [==============================] - 0s 5ms/step - loss: 0.1670 - accuracy: 0.9863 - val_loss: 0.2145 - val_accuracy: 0.9451\n",
            "Epoch 36/100\n",
            "12/12 [==============================] - 0s 7ms/step - loss: 0.1644 - accuracy: 0.9835 - val_loss: 0.2111 - val_accuracy: 0.9451\n",
            "Epoch 37/100\n",
            "12/12 [==============================] - 0s 7ms/step - loss: 0.1635 - accuracy: 0.9890 - val_loss: 0.2092 - val_accuracy: 0.9341\n",
            "Epoch 38/100\n",
            "12/12 [==============================] - 0s 7ms/step - loss: 0.1616 - accuracy: 0.9835 - val_loss: 0.2087 - val_accuracy: 0.9451\n",
            "Epoch 39/100\n",
            "12/12 [==============================] - 0s 6ms/step - loss: 0.1586 - accuracy: 0.9835 - val_loss: 0.2048 - val_accuracy: 0.9341\n",
            "Epoch 40/100\n",
            "12/12 [==============================] - 0s 6ms/step - loss: 0.1556 - accuracy: 0.9863 - val_loss: 0.2069 - val_accuracy: 0.9451\n",
            "Epoch 41/100\n",
            "12/12 [==============================] - 0s 6ms/step - loss: 0.1532 - accuracy: 0.9863 - val_loss: 0.2032 - val_accuracy: 0.9341\n",
            "Epoch 42/100\n",
            "12/12 [==============================] - 0s 5ms/step - loss: 0.1530 - accuracy: 0.9918 - val_loss: 0.2008 - val_accuracy: 0.9341\n",
            "Epoch 43/100\n",
            "12/12 [==============================] - 0s 8ms/step - loss: 0.1496 - accuracy: 0.9890 - val_loss: 0.2021 - val_accuracy: 0.9451\n",
            "Epoch 44/100\n",
            "12/12 [==============================] - 0s 7ms/step - loss: 0.1488 - accuracy: 0.9835 - val_loss: 0.1987 - val_accuracy: 0.9451\n",
            "Epoch 45/100\n",
            "12/12 [==============================] - 0s 7ms/step - loss: 0.1464 - accuracy: 0.9890 - val_loss: 0.1962 - val_accuracy: 0.9341\n",
            "Epoch 46/100\n",
            "12/12 [==============================] - 0s 7ms/step - loss: 0.1458 - accuracy: 0.9890 - val_loss: 0.1973 - val_accuracy: 0.9341\n",
            "Epoch 47/100\n",
            "12/12 [==============================] - 0s 6ms/step - loss: 0.1451 - accuracy: 0.9890 - val_loss: 0.1961 - val_accuracy: 0.9451\n",
            "Epoch 48/100\n",
            "12/12 [==============================] - 0s 6ms/step - loss: 0.1439 - accuracy: 0.9890 - val_loss: 0.1939 - val_accuracy: 0.9341\n",
            "Epoch 49/100\n",
            "12/12 [==============================] - 0s 7ms/step - loss: 0.1426 - accuracy: 0.9890 - val_loss: 0.1939 - val_accuracy: 0.9451\n",
            "Epoch 50/100\n",
            "12/12 [==============================] - 0s 5ms/step - loss: 0.1420 - accuracy: 0.9890 - val_loss: 0.1940 - val_accuracy: 0.9451\n",
            "Epoch 51/100\n",
            "12/12 [==============================] - 0s 6ms/step - loss: 0.1398 - accuracy: 0.9890 - val_loss: 0.1918 - val_accuracy: 0.9341\n",
            "Epoch 52/100\n",
            "12/12 [==============================] - 0s 5ms/step - loss: 0.1396 - accuracy: 0.9890 - val_loss: 0.1926 - val_accuracy: 0.9451\n",
            "Epoch 53/100\n",
            "12/12 [==============================] - 0s 7ms/step - loss: 0.1381 - accuracy: 0.9890 - val_loss: 0.1883 - val_accuracy: 0.9341\n",
            "Epoch 54/100\n",
            "12/12 [==============================] - 0s 7ms/step - loss: 0.1385 - accuracy: 0.9918 - val_loss: 0.1905 - val_accuracy: 0.9341\n",
            "Epoch 55/100\n",
            "12/12 [==============================] - 0s 6ms/step - loss: 0.1364 - accuracy: 0.9890 - val_loss: 0.1945 - val_accuracy: 0.9451\n",
            "Epoch 56/100\n",
            "12/12 [==============================] - 0s 5ms/step - loss: 0.1376 - accuracy: 0.9863 - val_loss: 0.1885 - val_accuracy: 0.9451\n",
            "Epoch 57/100\n",
            "12/12 [==============================] - 0s 5ms/step - loss: 0.1354 - accuracy: 0.9890 - val_loss: 0.1861 - val_accuracy: 0.9341\n",
            "Epoch 58/100\n",
            "12/12 [==============================] - 0s 6ms/step - loss: 0.1357 - accuracy: 0.9890 - val_loss: 0.1883 - val_accuracy: 0.9451\n",
            "Epoch 59/100\n",
            "12/12 [==============================] - 0s 6ms/step - loss: 0.1341 - accuracy: 0.9890 - val_loss: 0.1867 - val_accuracy: 0.9451\n",
            "Epoch 60/100\n",
            "12/12 [==============================] - 0s 6ms/step - loss: 0.1336 - accuracy: 0.9890 - val_loss: 0.1864 - val_accuracy: 0.9451\n",
            "Epoch 61/100\n",
            "12/12 [==============================] - 0s 5ms/step - loss: 0.1332 - accuracy: 0.9918 - val_loss: 0.1872 - val_accuracy: 0.9451\n",
            "Epoch 62/100\n",
            "12/12 [==============================] - 0s 8ms/step - loss: 0.1322 - accuracy: 0.9890 - val_loss: 0.1855 - val_accuracy: 0.9451\n",
            "Epoch 63/100\n",
            "12/12 [==============================] - 0s 6ms/step - loss: 0.1314 - accuracy: 0.9890 - val_loss: 0.1841 - val_accuracy: 0.9451\n",
            "Epoch 64/100\n",
            "12/12 [==============================] - 0s 7ms/step - loss: 0.1313 - accuracy: 0.9890 - val_loss: 0.1845 - val_accuracy: 0.9451\n",
            "Epoch 65/100\n",
            "12/12 [==============================] - 0s 5ms/step - loss: 0.1312 - accuracy: 0.9890 - val_loss: 0.1848 - val_accuracy: 0.9451\n",
            "Epoch 66/100\n",
            "12/12 [==============================] - 0s 5ms/step - loss: 0.1319 - accuracy: 0.9863 - val_loss: 0.1847 - val_accuracy: 0.9451\n",
            "Epoch 67/100\n",
            "12/12 [==============================] - 0s 6ms/step - loss: 0.1329 - accuracy: 0.9918 - val_loss: 0.1836 - val_accuracy: 0.9341\n",
            "Epoch 68/100\n",
            "12/12 [==============================] - 0s 7ms/step - loss: 0.1308 - accuracy: 0.9863 - val_loss: 0.1874 - val_accuracy: 0.9451\n",
            "Epoch 69/100\n",
            "12/12 [==============================] - 0s 5ms/step - loss: 0.1290 - accuracy: 0.9863 - val_loss: 0.1820 - val_accuracy: 0.9451\n",
            "Epoch 70/100\n",
            "12/12 [==============================] - 0s 6ms/step - loss: 0.1285 - accuracy: 0.9890 - val_loss: 0.1814 - val_accuracy: 0.9451\n",
            "Epoch 71/100\n",
            "12/12 [==============================] - 0s 7ms/step - loss: 0.1282 - accuracy: 0.9890 - val_loss: 0.1843 - val_accuracy: 0.9451\n",
            "Epoch 72/100\n",
            "12/12 [==============================] - 0s 5ms/step - loss: 0.1277 - accuracy: 0.9890 - val_loss: 0.1826 - val_accuracy: 0.9451\n",
            "Epoch 73/100\n",
            "12/12 [==============================] - 0s 5ms/step - loss: 0.1286 - accuracy: 0.9890 - val_loss: 0.1809 - val_accuracy: 0.9451\n",
            "Epoch 74/100\n",
            "12/12 [==============================] - 0s 5ms/step - loss: 0.1298 - accuracy: 0.9918 - val_loss: 0.1790 - val_accuracy: 0.9341\n",
            "Epoch 75/100\n",
            "12/12 [==============================] - 0s 5ms/step - loss: 0.1286 - accuracy: 0.9863 - val_loss: 0.1808 - val_accuracy: 0.9451\n",
            "Epoch 76/100\n",
            "12/12 [==============================] - 0s 6ms/step - loss: 0.1264 - accuracy: 0.9918 - val_loss: 0.1794 - val_accuracy: 0.9341\n",
            "Epoch 77/100\n",
            "12/12 [==============================] - 0s 5ms/step - loss: 0.1247 - accuracy: 0.9890 - val_loss: 0.1809 - val_accuracy: 0.9451\n",
            "Epoch 78/100\n",
            "12/12 [==============================] - 0s 6ms/step - loss: 0.1253 - accuracy: 0.9890 - val_loss: 0.1772 - val_accuracy: 0.9341\n",
            "Epoch 79/100\n",
            "12/12 [==============================] - 0s 5ms/step - loss: 0.1241 - accuracy: 0.9918 - val_loss: 0.1781 - val_accuracy: 0.9451\n",
            "Epoch 80/100\n",
            "12/12 [==============================] - 0s 6ms/step - loss: 0.1240 - accuracy: 0.9918 - val_loss: 0.1778 - val_accuracy: 0.9451\n",
            "Epoch 81/100\n",
            "12/12 [==============================] - 0s 6ms/step - loss: 0.1232 - accuracy: 0.9918 - val_loss: 0.1790 - val_accuracy: 0.9451\n",
            "Epoch 82/100\n",
            "12/12 [==============================] - 0s 5ms/step - loss: 0.1257 - accuracy: 0.9863 - val_loss: 0.1780 - val_accuracy: 0.9451\n",
            "Epoch 83/100\n",
            "12/12 [==============================] - 0s 5ms/step - loss: 0.1308 - accuracy: 0.9863 - val_loss: 0.1780 - val_accuracy: 0.9451\n",
            "Epoch 84/100\n",
            "12/12 [==============================] - 0s 5ms/step - loss: 0.1357 - accuracy: 0.9808 - val_loss: 0.1779 - val_accuracy: 0.9451\n",
            "Epoch 85/100\n",
            "12/12 [==============================] - 0s 5ms/step - loss: 0.1317 - accuracy: 0.9835 - val_loss: 0.1779 - val_accuracy: 0.9451\n",
            "Epoch 86/100\n",
            "12/12 [==============================] - 0s 6ms/step - loss: 0.1206 - accuracy: 0.9918 - val_loss: 0.1833 - val_accuracy: 0.9451\n",
            "Epoch 87/100\n",
            "12/12 [==============================] - 0s 5ms/step - loss: 0.1231 - accuracy: 0.9863 - val_loss: 0.1776 - val_accuracy: 0.9451\n",
            "Epoch 88/100\n",
            "12/12 [==============================] - 0s 5ms/step - loss: 0.1220 - accuracy: 0.9890 - val_loss: 0.1750 - val_accuracy: 0.9341\n",
            "Epoch 89/100\n",
            "12/12 [==============================] - 0s 6ms/step - loss: 0.1201 - accuracy: 0.9918 - val_loss: 0.1773 - val_accuracy: 0.9451\n",
            "Epoch 90/100\n",
            "12/12 [==============================] - 0s 6ms/step - loss: 0.1216 - accuracy: 0.9863 - val_loss: 0.1784 - val_accuracy: 0.9451\n",
            "Epoch 91/100\n",
            "12/12 [==============================] - 0s 5ms/step - loss: 0.1199 - accuracy: 0.9918 - val_loss: 0.1736 - val_accuracy: 0.9341\n",
            "Epoch 92/100\n",
            "12/12 [==============================] - 0s 5ms/step - loss: 0.1194 - accuracy: 0.9918 - val_loss: 0.1762 - val_accuracy: 0.9451\n",
            "Epoch 93/100\n",
            "12/12 [==============================] - 0s 5ms/step - loss: 0.1193 - accuracy: 0.9890 - val_loss: 0.1746 - val_accuracy: 0.9451\n",
            "Epoch 94/100\n",
            "12/12 [==============================] - 0s 6ms/step - loss: 0.1193 - accuracy: 0.9918 - val_loss: 0.1714 - val_accuracy: 0.9341\n",
            "Epoch 95/100\n",
            "12/12 [==============================] - 0s 5ms/step - loss: 0.1179 - accuracy: 0.9890 - val_loss: 0.1754 - val_accuracy: 0.9451\n",
            "Epoch 96/100\n",
            "12/12 [==============================] - 0s 5ms/step - loss: 0.1178 - accuracy: 0.9890 - val_loss: 0.1731 - val_accuracy: 0.9341\n",
            "Epoch 97/100\n",
            "12/12 [==============================] - 0s 6ms/step - loss: 0.1180 - accuracy: 0.9918 - val_loss: 0.1715 - val_accuracy: 0.9341\n",
            "Epoch 98/100\n",
            "12/12 [==============================] - 0s 5ms/step - loss: 0.1181 - accuracy: 0.9918 - val_loss: 0.1725 - val_accuracy: 0.9341\n",
            "Epoch 99/100\n",
            "12/12 [==============================] - 0s 5ms/step - loss: 0.1176 - accuracy: 0.9918 - val_loss: 0.1738 - val_accuracy: 0.9341\n",
            "Epoch 100/100\n",
            "12/12 [==============================] - 0s 5ms/step - loss: 0.1216 - accuracy: 0.9863 - val_loss: 0.1754 - val_accuracy: 0.9451\n"
          ]
        }
      ]
    },
    {
      "cell_type": "code",
      "source": [
        "mt2 = model2.fit(X_train, y_train, epochs=100, batch_size=32, validation_split=0.2)"
      ],
      "metadata": {
        "colab": {
          "base_uri": "https://localhost:8080/"
        },
        "id": "CjrcHgmHGasT",
        "outputId": "76fd2b9e-4e18-4e6e-923c-f84dad483587"
      },
      "execution_count": 18,
      "outputs": [
        {
          "output_type": "stream",
          "name": "stdout",
          "text": [
            "Epoch 1/100\n",
            "12/12 [==============================] - 1s 20ms/step - loss: 1.8520 - accuracy: 0.7555 - val_loss: 1.5823 - val_accuracy: 0.9341\n",
            "Epoch 2/100\n",
            "12/12 [==============================] - 0s 6ms/step - loss: 1.4607 - accuracy: 0.9423 - val_loss: 1.3329 - val_accuracy: 0.9451\n",
            "Epoch 3/100\n",
            "12/12 [==============================] - 0s 9ms/step - loss: 1.2580 - accuracy: 0.9533 - val_loss: 1.1765 - val_accuracy: 0.9560\n",
            "Epoch 4/100\n",
            "12/12 [==============================] - 0s 11ms/step - loss: 1.1077 - accuracy: 0.9643 - val_loss: 1.0512 - val_accuracy: 0.9560\n",
            "Epoch 5/100\n",
            "12/12 [==============================] - 0s 10ms/step - loss: 0.9814 - accuracy: 0.9753 - val_loss: 0.9398 - val_accuracy: 0.9670\n",
            "Epoch 6/100\n",
            "12/12 [==============================] - 0s 7ms/step - loss: 0.8695 - accuracy: 0.9863 - val_loss: 0.8414 - val_accuracy: 0.9670\n",
            "Epoch 7/100\n",
            "12/12 [==============================] - 0s 8ms/step - loss: 0.7724 - accuracy: 0.9863 - val_loss: 0.7537 - val_accuracy: 0.9670\n",
            "Epoch 8/100\n",
            "12/12 [==============================] - 0s 8ms/step - loss: 0.6856 - accuracy: 0.9890 - val_loss: 0.6780 - val_accuracy: 0.9670\n",
            "Epoch 9/100\n",
            "12/12 [==============================] - 0s 7ms/step - loss: 0.6102 - accuracy: 0.9890 - val_loss: 0.6117 - val_accuracy: 0.9670\n",
            "Epoch 10/100\n",
            "12/12 [==============================] - 0s 7ms/step - loss: 0.5445 - accuracy: 0.9890 - val_loss: 0.5511 - val_accuracy: 0.9670\n",
            "Epoch 11/100\n",
            "12/12 [==============================] - 0s 7ms/step - loss: 0.4862 - accuracy: 0.9890 - val_loss: 0.4973 - val_accuracy: 0.9670\n",
            "Epoch 12/100\n",
            "12/12 [==============================] - 0s 9ms/step - loss: 0.4350 - accuracy: 0.9890 - val_loss: 0.4514 - val_accuracy: 0.9670\n",
            "Epoch 13/100\n",
            "12/12 [==============================] - 0s 6ms/step - loss: 0.3913 - accuracy: 0.9890 - val_loss: 0.4099 - val_accuracy: 0.9780\n",
            "Epoch 14/100\n",
            "12/12 [==============================] - 0s 9ms/step - loss: 0.3525 - accuracy: 0.9890 - val_loss: 0.3759 - val_accuracy: 0.9670\n",
            "Epoch 15/100\n",
            "12/12 [==============================] - 0s 8ms/step - loss: 0.3186 - accuracy: 0.9890 - val_loss: 0.3443 - val_accuracy: 0.9780\n",
            "Epoch 16/100\n",
            "12/12 [==============================] - 0s 9ms/step - loss: 0.2893 - accuracy: 0.9890 - val_loss: 0.3173 - val_accuracy: 0.9780\n",
            "Epoch 17/100\n",
            "12/12 [==============================] - 0s 8ms/step - loss: 0.2638 - accuracy: 0.9890 - val_loss: 0.2949 - val_accuracy: 0.9780\n",
            "Epoch 18/100\n",
            "12/12 [==============================] - 0s 9ms/step - loss: 0.2414 - accuracy: 0.9890 - val_loss: 0.2748 - val_accuracy: 0.9780\n",
            "Epoch 19/100\n",
            "12/12 [==============================] - 0s 8ms/step - loss: 0.2220 - accuracy: 0.9890 - val_loss: 0.2580 - val_accuracy: 0.9780\n",
            "Epoch 20/100\n",
            "12/12 [==============================] - 0s 9ms/step - loss: 0.2054 - accuracy: 0.9890 - val_loss: 0.2427 - val_accuracy: 0.9780\n",
            "Epoch 21/100\n",
            "12/12 [==============================] - 0s 10ms/step - loss: 0.1904 - accuracy: 0.9890 - val_loss: 0.2294 - val_accuracy: 0.9780\n",
            "Epoch 22/100\n",
            "12/12 [==============================] - 0s 9ms/step - loss: 0.1777 - accuracy: 0.9890 - val_loss: 0.2169 - val_accuracy: 0.9780\n",
            "Epoch 23/100\n",
            "12/12 [==============================] - 0s 9ms/step - loss: 0.1682 - accuracy: 0.9890 - val_loss: 0.2099 - val_accuracy: 0.9451\n",
            "Epoch 24/100\n",
            "12/12 [==============================] - 0s 10ms/step - loss: 0.1580 - accuracy: 0.9890 - val_loss: 0.1998 - val_accuracy: 0.9560\n",
            "Epoch 25/100\n",
            "12/12 [==============================] - 0s 9ms/step - loss: 0.1492 - accuracy: 0.9890 - val_loss: 0.1907 - val_accuracy: 0.9670\n",
            "Epoch 26/100\n",
            "12/12 [==============================] - 0s 7ms/step - loss: 0.1413 - accuracy: 0.9890 - val_loss: 0.1858 - val_accuracy: 0.9670\n",
            "Epoch 27/100\n",
            "12/12 [==============================] - 0s 6ms/step - loss: 0.1343 - accuracy: 0.9890 - val_loss: 0.1785 - val_accuracy: 0.9670\n",
            "Epoch 28/100\n",
            "12/12 [==============================] - 0s 5ms/step - loss: 0.1277 - accuracy: 0.9918 - val_loss: 0.1739 - val_accuracy: 0.9560\n",
            "Epoch 29/100\n",
            "12/12 [==============================] - 0s 6ms/step - loss: 0.1233 - accuracy: 0.9890 - val_loss: 0.1676 - val_accuracy: 0.9670\n",
            "Epoch 30/100\n",
            "12/12 [==============================] - 0s 7ms/step - loss: 0.1185 - accuracy: 0.9890 - val_loss: 0.1639 - val_accuracy: 0.9670\n",
            "Epoch 31/100\n",
            "12/12 [==============================] - 0s 6ms/step - loss: 0.1146 - accuracy: 0.9890 - val_loss: 0.1623 - val_accuracy: 0.9560\n",
            "Epoch 32/100\n",
            "12/12 [==============================] - 0s 6ms/step - loss: 0.1115 - accuracy: 0.9890 - val_loss: 0.1554 - val_accuracy: 0.9670\n",
            "Epoch 33/100\n",
            "12/12 [==============================] - 0s 6ms/step - loss: 0.1083 - accuracy: 0.9890 - val_loss: 0.1545 - val_accuracy: 0.9560\n",
            "Epoch 34/100\n",
            "12/12 [==============================] - 0s 6ms/step - loss: 0.1046 - accuracy: 0.9890 - val_loss: 0.1524 - val_accuracy: 0.9560\n",
            "Epoch 35/100\n",
            "12/12 [==============================] - 0s 6ms/step - loss: 0.1017 - accuracy: 0.9890 - val_loss: 0.1500 - val_accuracy: 0.9560\n",
            "Epoch 36/100\n",
            "12/12 [==============================] - 0s 16ms/step - loss: 0.0998 - accuracy: 0.9918 - val_loss: 0.1504 - val_accuracy: 0.9341\n",
            "Epoch 37/100\n",
            "12/12 [==============================] - 0s 5ms/step - loss: 0.0990 - accuracy: 0.9918 - val_loss: 0.1507 - val_accuracy: 0.9560\n",
            "Epoch 38/100\n",
            "12/12 [==============================] - 0s 6ms/step - loss: 0.0961 - accuracy: 0.9890 - val_loss: 0.1426 - val_accuracy: 0.9560\n",
            "Epoch 39/100\n",
            "12/12 [==============================] - 0s 5ms/step - loss: 0.0936 - accuracy: 0.9918 - val_loss: 0.1468 - val_accuracy: 0.9560\n",
            "Epoch 40/100\n",
            "12/12 [==============================] - 0s 6ms/step - loss: 0.0928 - accuracy: 0.9918 - val_loss: 0.1423 - val_accuracy: 0.9670\n",
            "Epoch 41/100\n",
            "12/12 [==============================] - 0s 5ms/step - loss: 0.0910 - accuracy: 0.9890 - val_loss: 0.1372 - val_accuracy: 0.9670\n",
            "Epoch 42/100\n",
            "12/12 [==============================] - 0s 5ms/step - loss: 0.0903 - accuracy: 0.9890 - val_loss: 0.1378 - val_accuracy: 0.9670\n",
            "Epoch 43/100\n",
            "12/12 [==============================] - 0s 5ms/step - loss: 0.0927 - accuracy: 0.9918 - val_loss: 0.1387 - val_accuracy: 0.9560\n",
            "Epoch 44/100\n",
            "12/12 [==============================] - 0s 6ms/step - loss: 0.0893 - accuracy: 0.9890 - val_loss: 0.1434 - val_accuracy: 0.9560\n",
            "Epoch 45/100\n",
            "12/12 [==============================] - 0s 14ms/step - loss: 0.0869 - accuracy: 0.9890 - val_loss: 0.1338 - val_accuracy: 0.9560\n",
            "Epoch 46/100\n",
            "12/12 [==============================] - 0s 7ms/step - loss: 0.0854 - accuracy: 0.9918 - val_loss: 0.1330 - val_accuracy: 0.9560\n",
            "Epoch 47/100\n",
            "12/12 [==============================] - 0s 6ms/step - loss: 0.0845 - accuracy: 0.9918 - val_loss: 0.1385 - val_accuracy: 0.9451\n",
            "Epoch 48/100\n",
            "12/12 [==============================] - 0s 7ms/step - loss: 0.0832 - accuracy: 0.9890 - val_loss: 0.1388 - val_accuracy: 0.9560\n",
            "Epoch 49/100\n",
            "12/12 [==============================] - 0s 5ms/step - loss: 0.0818 - accuracy: 0.9890 - val_loss: 0.1349 - val_accuracy: 0.9560\n",
            "Epoch 50/100\n",
            "12/12 [==============================] - 0s 6ms/step - loss: 0.0842 - accuracy: 0.9918 - val_loss: 0.1359 - val_accuracy: 0.9451\n",
            "Epoch 51/100\n",
            "12/12 [==============================] - 0s 6ms/step - loss: 0.0827 - accuracy: 0.9918 - val_loss: 0.1487 - val_accuracy: 0.9560\n",
            "Epoch 52/100\n",
            "12/12 [==============================] - 0s 5ms/step - loss: 0.0837 - accuracy: 0.9890 - val_loss: 0.1305 - val_accuracy: 0.9451\n",
            "Epoch 53/100\n",
            "12/12 [==============================] - 0s 15ms/step - loss: 0.0798 - accuracy: 0.9918 - val_loss: 0.1357 - val_accuracy: 0.9670\n",
            "Epoch 54/100\n",
            "12/12 [==============================] - 0s 7ms/step - loss: 0.0779 - accuracy: 0.9945 - val_loss: 0.1323 - val_accuracy: 0.9560\n",
            "Epoch 55/100\n",
            "12/12 [==============================] - 0s 7ms/step - loss: 0.0794 - accuracy: 0.9918 - val_loss: 0.1328 - val_accuracy: 0.9451\n",
            "Epoch 56/100\n",
            "12/12 [==============================] - 0s 5ms/step - loss: 0.0778 - accuracy: 0.9945 - val_loss: 0.1360 - val_accuracy: 0.9560\n",
            "Epoch 57/100\n",
            "12/12 [==============================] - 0s 7ms/step - loss: 0.0763 - accuracy: 0.9918 - val_loss: 0.1378 - val_accuracy: 0.9341\n",
            "Epoch 58/100\n",
            "12/12 [==============================] - 0s 5ms/step - loss: 0.0772 - accuracy: 0.9918 - val_loss: 0.1391 - val_accuracy: 0.9560\n",
            "Epoch 59/100\n",
            "12/12 [==============================] - 0s 7ms/step - loss: 0.0757 - accuracy: 0.9918 - val_loss: 0.1363 - val_accuracy: 0.9560\n",
            "Epoch 60/100\n",
            "12/12 [==============================] - 0s 7ms/step - loss: 0.0753 - accuracy: 0.9945 - val_loss: 0.1298 - val_accuracy: 0.9560\n",
            "Epoch 61/100\n",
            "12/12 [==============================] - 0s 7ms/step - loss: 0.0743 - accuracy: 0.9918 - val_loss: 0.1287 - val_accuracy: 0.9451\n",
            "Epoch 62/100\n",
            "12/12 [==============================] - 0s 6ms/step - loss: 0.0744 - accuracy: 0.9918 - val_loss: 0.1339 - val_accuracy: 0.9560\n",
            "Epoch 63/100\n",
            "12/12 [==============================] - 0s 7ms/step - loss: 0.0744 - accuracy: 0.9918 - val_loss: 0.1275 - val_accuracy: 0.9560\n",
            "Epoch 64/100\n",
            "12/12 [==============================] - 0s 5ms/step - loss: 0.0754 - accuracy: 0.9918 - val_loss: 0.1351 - val_accuracy: 0.9560\n",
            "Epoch 65/100\n",
            "12/12 [==============================] - 0s 5ms/step - loss: 0.0729 - accuracy: 0.9945 - val_loss: 0.1327 - val_accuracy: 0.9451\n",
            "Epoch 66/100\n",
            "12/12 [==============================] - 0s 7ms/step - loss: 0.0760 - accuracy: 0.9890 - val_loss: 0.1311 - val_accuracy: 0.9451\n",
            "Epoch 67/100\n",
            "12/12 [==============================] - 0s 5ms/step - loss: 0.0736 - accuracy: 0.9945 - val_loss: 0.1358 - val_accuracy: 0.9560\n",
            "Epoch 68/100\n",
            "12/12 [==============================] - 0s 6ms/step - loss: 0.0737 - accuracy: 0.9918 - val_loss: 0.1289 - val_accuracy: 0.9451\n",
            "Epoch 69/100\n",
            "12/12 [==============================] - 0s 5ms/step - loss: 0.0713 - accuracy: 0.9945 - val_loss: 0.1313 - val_accuracy: 0.9670\n",
            "Epoch 70/100\n",
            "12/12 [==============================] - 0s 5ms/step - loss: 0.0711 - accuracy: 0.9945 - val_loss: 0.1297 - val_accuracy: 0.9670\n",
            "Epoch 71/100\n",
            "12/12 [==============================] - 0s 5ms/step - loss: 0.0699 - accuracy: 0.9918 - val_loss: 0.1280 - val_accuracy: 0.9451\n",
            "Epoch 72/100\n",
            "12/12 [==============================] - 0s 6ms/step - loss: 0.0702 - accuracy: 0.9918 - val_loss: 0.1329 - val_accuracy: 0.9451\n",
            "Epoch 73/100\n",
            "12/12 [==============================] - 0s 7ms/step - loss: 0.0745 - accuracy: 0.9918 - val_loss: 0.1323 - val_accuracy: 0.9560\n",
            "Epoch 74/100\n",
            "12/12 [==============================] - 0s 5ms/step - loss: 0.0755 - accuracy: 0.9863 - val_loss: 0.1244 - val_accuracy: 0.9560\n",
            "Epoch 75/100\n",
            "12/12 [==============================] - 0s 5ms/step - loss: 0.0735 - accuracy: 0.9890 - val_loss: 0.1381 - val_accuracy: 0.9560\n",
            "Epoch 76/100\n",
            "12/12 [==============================] - 0s 7ms/step - loss: 0.0688 - accuracy: 0.9945 - val_loss: 0.1263 - val_accuracy: 0.9560\n",
            "Epoch 77/100\n",
            "12/12 [==============================] - 0s 5ms/step - loss: 0.0695 - accuracy: 0.9890 - val_loss: 0.1311 - val_accuracy: 0.9670\n",
            "Epoch 78/100\n",
            "12/12 [==============================] - 0s 6ms/step - loss: 0.0697 - accuracy: 0.9945 - val_loss: 0.1283 - val_accuracy: 0.9560\n",
            "Epoch 79/100\n",
            "12/12 [==============================] - 0s 7ms/step - loss: 0.0686 - accuracy: 0.9918 - val_loss: 0.1255 - val_accuracy: 0.9560\n",
            "Epoch 80/100\n",
            "12/12 [==============================] - 0s 5ms/step - loss: 0.0688 - accuracy: 0.9945 - val_loss: 0.1318 - val_accuracy: 0.9451\n",
            "Epoch 81/100\n",
            "12/12 [==============================] - 0s 6ms/step - loss: 0.0676 - accuracy: 0.9945 - val_loss: 0.1279 - val_accuracy: 0.9451\n",
            "Epoch 82/100\n",
            "12/12 [==============================] - 0s 5ms/step - loss: 0.0693 - accuracy: 0.9918 - val_loss: 0.1258 - val_accuracy: 0.9670\n",
            "Epoch 83/100\n",
            "12/12 [==============================] - 0s 5ms/step - loss: 0.0661 - accuracy: 0.9945 - val_loss: 0.1250 - val_accuracy: 0.9451\n",
            "Epoch 84/100\n",
            "12/12 [==============================] - 0s 7ms/step - loss: 0.0666 - accuracy: 0.9945 - val_loss: 0.1264 - val_accuracy: 0.9560\n",
            "Epoch 85/100\n",
            "12/12 [==============================] - 0s 5ms/step - loss: 0.0680 - accuracy: 0.9945 - val_loss: 0.1227 - val_accuracy: 0.9560\n",
            "Epoch 86/100\n",
            "12/12 [==============================] - 0s 8ms/step - loss: 0.0685 - accuracy: 0.9890 - val_loss: 0.1266 - val_accuracy: 0.9670\n",
            "Epoch 87/100\n",
            "12/12 [==============================] - 0s 5ms/step - loss: 0.0714 - accuracy: 0.9918 - val_loss: 0.1284 - val_accuracy: 0.9560\n",
            "Epoch 88/100\n",
            "12/12 [==============================] - 0s 5ms/step - loss: 0.0662 - accuracy: 0.9890 - val_loss: 0.1322 - val_accuracy: 0.9560\n",
            "Epoch 89/100\n",
            "12/12 [==============================] - 0s 5ms/step - loss: 0.0659 - accuracy: 0.9918 - val_loss: 0.1338 - val_accuracy: 0.9560\n",
            "Epoch 90/100\n",
            "12/12 [==============================] - 0s 7ms/step - loss: 0.0665 - accuracy: 0.9945 - val_loss: 0.1296 - val_accuracy: 0.9670\n",
            "Epoch 91/100\n",
            "12/12 [==============================] - 0s 5ms/step - loss: 0.0654 - accuracy: 0.9918 - val_loss: 0.1307 - val_accuracy: 0.9451\n",
            "Epoch 92/100\n",
            "12/12 [==============================] - 0s 7ms/step - loss: 0.0648 - accuracy: 0.9918 - val_loss: 0.1285 - val_accuracy: 0.9560\n",
            "Epoch 93/100\n",
            "12/12 [==============================] - 0s 5ms/step - loss: 0.0657 - accuracy: 0.9945 - val_loss: 0.1280 - val_accuracy: 0.9341\n",
            "Epoch 94/100\n",
            "12/12 [==============================] - 0s 5ms/step - loss: 0.0649 - accuracy: 0.9945 - val_loss: 0.1287 - val_accuracy: 0.9451\n",
            "Epoch 95/100\n",
            "12/12 [==============================] - 0s 5ms/step - loss: 0.0651 - accuracy: 0.9918 - val_loss: 0.1302 - val_accuracy: 0.9560\n",
            "Epoch 96/100\n",
            "12/12 [==============================] - 0s 5ms/step - loss: 0.0655 - accuracy: 0.9918 - val_loss: 0.1188 - val_accuracy: 0.9560\n",
            "Epoch 97/100\n",
            "12/12 [==============================] - 0s 5ms/step - loss: 0.0665 - accuracy: 0.9918 - val_loss: 0.1339 - val_accuracy: 0.9451\n",
            "Epoch 98/100\n",
            "12/12 [==============================] - 0s 6ms/step - loss: 0.0643 - accuracy: 0.9945 - val_loss: 0.1238 - val_accuracy: 0.9560\n",
            "Epoch 99/100\n",
            "12/12 [==============================] - 0s 5ms/step - loss: 0.0637 - accuracy: 0.9918 - val_loss: 0.1314 - val_accuracy: 0.9451\n",
            "Epoch 100/100\n",
            "12/12 [==============================] - 0s 6ms/step - loss: 0.0632 - accuracy: 0.9918 - val_loss: 0.1252 - val_accuracy: 0.9560\n"
          ]
        }
      ]
    },
    {
      "cell_type": "code",
      "source": [
        "mt3 = model3.fit(X_train, y_train, epochs=100, batch_size=32, validation_split=0.2)"
      ],
      "metadata": {
        "colab": {
          "base_uri": "https://localhost:8080/"
        },
        "id": "kbsB0_-NGelk",
        "outputId": "a090ee6a-19a5-4bf8-eff1-3118ba2d1adc"
      },
      "execution_count": 19,
      "outputs": [
        {
          "output_type": "stream",
          "name": "stdout",
          "text": [
            "Epoch 1/100\n",
            "12/12 [==============================] - 1s 23ms/step - loss: 12.3864 - accuracy: 0.7610 - val_loss: 11.4638 - val_accuracy: 0.8791\n",
            "Epoch 2/100\n",
            "12/12 [==============================] - 0s 7ms/step - loss: 10.8208 - accuracy: 0.9313 - val_loss: 10.0030 - val_accuracy: 0.9231\n",
            "Epoch 3/100\n",
            "12/12 [==============================] - 0s 5ms/step - loss: 9.4151 - accuracy: 0.9588 - val_loss: 8.6644 - val_accuracy: 0.9341\n",
            "Epoch 4/100\n",
            "12/12 [==============================] - 0s 6ms/step - loss: 8.1238 - accuracy: 0.9615 - val_loss: 7.4412 - val_accuracy: 0.9451\n",
            "Epoch 5/100\n",
            "12/12 [==============================] - 0s 6ms/step - loss: 6.9461 - accuracy: 0.9615 - val_loss: 6.3284 - val_accuracy: 0.9341\n",
            "Epoch 6/100\n",
            "12/12 [==============================] - 0s 6ms/step - loss: 5.8792 - accuracy: 0.9615 - val_loss: 5.3212 - val_accuracy: 0.9341\n",
            "Epoch 7/100\n",
            "12/12 [==============================] - 0s 7ms/step - loss: 4.9143 - accuracy: 0.9643 - val_loss: 4.4165 - val_accuracy: 0.9341\n",
            "Epoch 8/100\n",
            "12/12 [==============================] - 0s 7ms/step - loss: 4.0530 - accuracy: 0.9753 - val_loss: 3.6163 - val_accuracy: 0.9341\n",
            "Epoch 9/100\n",
            "12/12 [==============================] - 0s 7ms/step - loss: 3.2909 - accuracy: 0.9725 - val_loss: 2.9120 - val_accuracy: 0.9451\n",
            "Epoch 10/100\n",
            "12/12 [==============================] - 0s 7ms/step - loss: 2.6284 - accuracy: 0.9725 - val_loss: 2.3059 - val_accuracy: 0.9451\n",
            "Epoch 11/100\n",
            "12/12 [==============================] - 0s 6ms/step - loss: 2.0608 - accuracy: 0.9753 - val_loss: 1.7933 - val_accuracy: 0.9560\n",
            "Epoch 12/100\n",
            "12/12 [==============================] - 0s 5ms/step - loss: 1.5874 - accuracy: 0.9780 - val_loss: 1.3746 - val_accuracy: 0.9560\n",
            "Epoch 13/100\n",
            "12/12 [==============================] - 0s 6ms/step - loss: 1.2041 - accuracy: 0.9753 - val_loss: 1.0407 - val_accuracy: 0.9560\n",
            "Epoch 14/100\n",
            "12/12 [==============================] - 0s 7ms/step - loss: 0.9068 - accuracy: 0.9780 - val_loss: 0.7940 - val_accuracy: 0.9560\n",
            "Epoch 15/100\n",
            "12/12 [==============================] - 0s 7ms/step - loss: 0.6926 - accuracy: 0.9780 - val_loss: 0.6242 - val_accuracy: 0.9560\n",
            "Epoch 16/100\n",
            "12/12 [==============================] - 0s 5ms/step - loss: 0.5541 - accuracy: 0.9780 - val_loss: 0.5244 - val_accuracy: 0.9560\n",
            "Epoch 17/100\n",
            "12/12 [==============================] - 0s 5ms/step - loss: 0.4721 - accuracy: 0.9780 - val_loss: 0.4650 - val_accuracy: 0.9560\n",
            "Epoch 18/100\n",
            "12/12 [==============================] - 0s 5ms/step - loss: 0.4233 - accuracy: 0.9780 - val_loss: 0.4292 - val_accuracy: 0.9560\n",
            "Epoch 19/100\n",
            "12/12 [==============================] - 0s 11ms/step - loss: 0.3942 - accuracy: 0.9780 - val_loss: 0.4094 - val_accuracy: 0.9560\n",
            "Epoch 20/100\n",
            "12/12 [==============================] - 0s 9ms/step - loss: 0.3751 - accuracy: 0.9808 - val_loss: 0.3938 - val_accuracy: 0.9451\n",
            "Epoch 21/100\n",
            "12/12 [==============================] - 0s 8ms/step - loss: 0.3604 - accuracy: 0.9780 - val_loss: 0.3815 - val_accuracy: 0.9451\n",
            "Epoch 22/100\n",
            "12/12 [==============================] - 0s 10ms/step - loss: 0.3486 - accuracy: 0.9808 - val_loss: 0.3714 - val_accuracy: 0.9451\n",
            "Epoch 23/100\n",
            "12/12 [==============================] - 0s 7ms/step - loss: 0.3387 - accuracy: 0.9808 - val_loss: 0.3624 - val_accuracy: 0.9341\n",
            "Epoch 24/100\n",
            "12/12 [==============================] - 0s 8ms/step - loss: 0.3291 - accuracy: 0.9808 - val_loss: 0.3545 - val_accuracy: 0.9341\n",
            "Epoch 25/100\n",
            "12/12 [==============================] - 0s 9ms/step - loss: 0.3193 - accuracy: 0.9835 - val_loss: 0.3454 - val_accuracy: 0.9341\n",
            "Epoch 26/100\n",
            "12/12 [==============================] - 0s 7ms/step - loss: 0.3100 - accuracy: 0.9835 - val_loss: 0.3365 - val_accuracy: 0.9341\n",
            "Epoch 27/100\n",
            "12/12 [==============================] - 0s 8ms/step - loss: 0.3009 - accuracy: 0.9835 - val_loss: 0.3288 - val_accuracy: 0.9341\n",
            "Epoch 28/100\n",
            "12/12 [==============================] - 0s 7ms/step - loss: 0.2922 - accuracy: 0.9835 - val_loss: 0.3214 - val_accuracy: 0.9560\n",
            "Epoch 29/100\n",
            "12/12 [==============================] - 0s 10ms/step - loss: 0.2848 - accuracy: 0.9835 - val_loss: 0.3162 - val_accuracy: 0.9451\n",
            "Epoch 30/100\n",
            "12/12 [==============================] - 0s 7ms/step - loss: 0.2790 - accuracy: 0.9835 - val_loss: 0.3109 - val_accuracy: 0.9451\n",
            "Epoch 31/100\n",
            "12/12 [==============================] - 0s 8ms/step - loss: 0.2741 - accuracy: 0.9835 - val_loss: 0.3066 - val_accuracy: 0.9560\n",
            "Epoch 32/100\n",
            "12/12 [==============================] - 0s 7ms/step - loss: 0.2699 - accuracy: 0.9835 - val_loss: 0.3031 - val_accuracy: 0.9670\n",
            "Epoch 33/100\n",
            "12/12 [==============================] - 0s 7ms/step - loss: 0.2653 - accuracy: 0.9835 - val_loss: 0.2996 - val_accuracy: 0.9451\n",
            "Epoch 34/100\n",
            "12/12 [==============================] - 0s 9ms/step - loss: 0.2615 - accuracy: 0.9835 - val_loss: 0.2958 - val_accuracy: 0.9670\n",
            "Epoch 35/100\n",
            "12/12 [==============================] - 0s 9ms/step - loss: 0.2577 - accuracy: 0.9835 - val_loss: 0.2925 - val_accuracy: 0.9670\n",
            "Epoch 36/100\n",
            "12/12 [==============================] - 0s 9ms/step - loss: 0.2543 - accuracy: 0.9835 - val_loss: 0.2892 - val_accuracy: 0.9670\n",
            "Epoch 37/100\n",
            "12/12 [==============================] - 0s 8ms/step - loss: 0.2510 - accuracy: 0.9835 - val_loss: 0.2862 - val_accuracy: 0.9670\n",
            "Epoch 38/100\n",
            "12/12 [==============================] - 0s 8ms/step - loss: 0.2476 - accuracy: 0.9835 - val_loss: 0.2834 - val_accuracy: 0.9670\n",
            "Epoch 39/100\n",
            "12/12 [==============================] - 0s 10ms/step - loss: 0.2445 - accuracy: 0.9835 - val_loss: 0.2807 - val_accuracy: 0.9451\n",
            "Epoch 40/100\n",
            "12/12 [==============================] - 0s 9ms/step - loss: 0.2418 - accuracy: 0.9835 - val_loss: 0.2783 - val_accuracy: 0.9451\n",
            "Epoch 41/100\n",
            "12/12 [==============================] - 0s 9ms/step - loss: 0.2393 - accuracy: 0.9835 - val_loss: 0.2764 - val_accuracy: 0.9451\n",
            "Epoch 42/100\n",
            "12/12 [==============================] - 0s 9ms/step - loss: 0.2371 - accuracy: 0.9835 - val_loss: 0.2741 - val_accuracy: 0.9451\n",
            "Epoch 43/100\n",
            "12/12 [==============================] - 0s 7ms/step - loss: 0.2351 - accuracy: 0.9835 - val_loss: 0.2732 - val_accuracy: 0.9451\n",
            "Epoch 44/100\n",
            "12/12 [==============================] - 0s 5ms/step - loss: 0.2333 - accuracy: 0.9835 - val_loss: 0.2713 - val_accuracy: 0.9451\n",
            "Epoch 45/100\n",
            "12/12 [==============================] - 0s 5ms/step - loss: 0.2323 - accuracy: 0.9835 - val_loss: 0.2695 - val_accuracy: 0.9451\n",
            "Epoch 46/100\n",
            "12/12 [==============================] - 0s 5ms/step - loss: 0.2304 - accuracy: 0.9835 - val_loss: 0.2681 - val_accuracy: 0.9451\n",
            "Epoch 47/100\n",
            "12/12 [==============================] - 0s 6ms/step - loss: 0.2290 - accuracy: 0.9835 - val_loss: 0.2669 - val_accuracy: 0.9451\n",
            "Epoch 48/100\n",
            "12/12 [==============================] - 0s 7ms/step - loss: 0.2275 - accuracy: 0.9835 - val_loss: 0.2660 - val_accuracy: 0.9451\n",
            "Epoch 49/100\n",
            "12/12 [==============================] - 0s 7ms/step - loss: 0.2267 - accuracy: 0.9835 - val_loss: 0.2647 - val_accuracy: 0.9451\n",
            "Epoch 50/100\n",
            "12/12 [==============================] - 0s 6ms/step - loss: 0.2254 - accuracy: 0.9835 - val_loss: 0.2639 - val_accuracy: 0.9451\n",
            "Epoch 51/100\n",
            "12/12 [==============================] - 0s 6ms/step - loss: 0.2241 - accuracy: 0.9835 - val_loss: 0.2634 - val_accuracy: 0.9451\n",
            "Epoch 52/100\n",
            "12/12 [==============================] - 0s 5ms/step - loss: 0.2231 - accuracy: 0.9835 - val_loss: 0.2623 - val_accuracy: 0.9451\n",
            "Epoch 53/100\n",
            "12/12 [==============================] - 0s 5ms/step - loss: 0.2220 - accuracy: 0.9835 - val_loss: 0.2605 - val_accuracy: 0.9451\n",
            "Epoch 54/100\n",
            "12/12 [==============================] - 0s 5ms/step - loss: 0.2210 - accuracy: 0.9835 - val_loss: 0.2601 - val_accuracy: 0.9451\n",
            "Epoch 55/100\n",
            "12/12 [==============================] - 0s 5ms/step - loss: 0.2195 - accuracy: 0.9835 - val_loss: 0.2590 - val_accuracy: 0.9451\n",
            "Epoch 56/100\n",
            "12/12 [==============================] - 0s 6ms/step - loss: 0.2185 - accuracy: 0.9835 - val_loss: 0.2583 - val_accuracy: 0.9451\n",
            "Epoch 57/100\n",
            "12/12 [==============================] - 0s 5ms/step - loss: 0.2172 - accuracy: 0.9835 - val_loss: 0.2563 - val_accuracy: 0.9451\n",
            "Epoch 58/100\n",
            "12/12 [==============================] - 0s 5ms/step - loss: 0.2163 - accuracy: 0.9835 - val_loss: 0.2551 - val_accuracy: 0.9451\n",
            "Epoch 59/100\n",
            "12/12 [==============================] - 0s 7ms/step - loss: 0.2154 - accuracy: 0.9835 - val_loss: 0.2549 - val_accuracy: 0.9451\n",
            "Epoch 60/100\n",
            "12/12 [==============================] - 0s 6ms/step - loss: 0.2149 - accuracy: 0.9835 - val_loss: 0.2536 - val_accuracy: 0.9451\n",
            "Epoch 61/100\n",
            "12/12 [==============================] - 0s 6ms/step - loss: 0.2137 - accuracy: 0.9835 - val_loss: 0.2534 - val_accuracy: 0.9451\n",
            "Epoch 62/100\n",
            "12/12 [==============================] - 0s 7ms/step - loss: 0.2126 - accuracy: 0.9835 - val_loss: 0.2516 - val_accuracy: 0.9451\n",
            "Epoch 63/100\n",
            "12/12 [==============================] - 0s 7ms/step - loss: 0.2118 - accuracy: 0.9835 - val_loss: 0.2503 - val_accuracy: 0.9451\n",
            "Epoch 64/100\n",
            "12/12 [==============================] - 0s 8ms/step - loss: 0.2110 - accuracy: 0.9835 - val_loss: 0.2495 - val_accuracy: 0.9451\n",
            "Epoch 65/100\n",
            "12/12 [==============================] - 0s 5ms/step - loss: 0.2105 - accuracy: 0.9835 - val_loss: 0.2490 - val_accuracy: 0.9451\n",
            "Epoch 66/100\n",
            "12/12 [==============================] - 0s 7ms/step - loss: 0.2097 - accuracy: 0.9835 - val_loss: 0.2484 - val_accuracy: 0.9451\n",
            "Epoch 67/100\n",
            "12/12 [==============================] - 0s 6ms/step - loss: 0.2090 - accuracy: 0.9835 - val_loss: 0.2479 - val_accuracy: 0.9451\n",
            "Epoch 68/100\n",
            "12/12 [==============================] - 0s 6ms/step - loss: 0.2077 - accuracy: 0.9835 - val_loss: 0.2460 - val_accuracy: 0.9451\n",
            "Epoch 69/100\n",
            "12/12 [==============================] - 0s 7ms/step - loss: 0.2074 - accuracy: 0.9835 - val_loss: 0.2453 - val_accuracy: 0.9451\n",
            "Epoch 70/100\n",
            "12/12 [==============================] - 0s 5ms/step - loss: 0.2062 - accuracy: 0.9835 - val_loss: 0.2445 - val_accuracy: 0.9451\n",
            "Epoch 71/100\n",
            "12/12 [==============================] - 0s 5ms/step - loss: 0.2051 - accuracy: 0.9835 - val_loss: 0.2443 - val_accuracy: 0.9451\n",
            "Epoch 72/100\n",
            "12/12 [==============================] - 0s 5ms/step - loss: 0.2044 - accuracy: 0.9835 - val_loss: 0.2430 - val_accuracy: 0.9451\n",
            "Epoch 73/100\n",
            "12/12 [==============================] - 0s 6ms/step - loss: 0.2036 - accuracy: 0.9835 - val_loss: 0.2420 - val_accuracy: 0.9451\n",
            "Epoch 74/100\n",
            "12/12 [==============================] - 0s 6ms/step - loss: 0.2027 - accuracy: 0.9835 - val_loss: 0.2412 - val_accuracy: 0.9451\n",
            "Epoch 75/100\n",
            "12/12 [==============================] - 0s 6ms/step - loss: 0.2022 - accuracy: 0.9835 - val_loss: 0.2393 - val_accuracy: 0.9451\n",
            "Epoch 76/100\n",
            "12/12 [==============================] - 0s 5ms/step - loss: 0.2019 - accuracy: 0.9835 - val_loss: 0.2385 - val_accuracy: 0.9451\n",
            "Epoch 77/100\n",
            "12/12 [==============================] - 0s 5ms/step - loss: 0.2014 - accuracy: 0.9835 - val_loss: 0.2383 - val_accuracy: 0.9451\n",
            "Epoch 78/100\n",
            "12/12 [==============================] - 0s 8ms/step - loss: 0.2005 - accuracy: 0.9835 - val_loss: 0.2373 - val_accuracy: 0.9451\n",
            "Epoch 79/100\n",
            "12/12 [==============================] - 0s 5ms/step - loss: 0.1995 - accuracy: 0.9835 - val_loss: 0.2365 - val_accuracy: 0.9451\n",
            "Epoch 80/100\n",
            "12/12 [==============================] - 0s 5ms/step - loss: 0.1991 - accuracy: 0.9835 - val_loss: 0.2362 - val_accuracy: 0.9451\n",
            "Epoch 81/100\n",
            "12/12 [==============================] - 0s 6ms/step - loss: 0.1987 - accuracy: 0.9835 - val_loss: 0.2352 - val_accuracy: 0.9451\n",
            "Epoch 82/100\n",
            "12/12 [==============================] - 0s 7ms/step - loss: 0.1977 - accuracy: 0.9835 - val_loss: 0.2355 - val_accuracy: 0.9451\n",
            "Epoch 83/100\n",
            "12/12 [==============================] - 0s 7ms/step - loss: 0.1970 - accuracy: 0.9835 - val_loss: 0.2339 - val_accuracy: 0.9451\n",
            "Epoch 84/100\n",
            "12/12 [==============================] - 0s 5ms/step - loss: 0.1961 - accuracy: 0.9835 - val_loss: 0.2334 - val_accuracy: 0.9451\n",
            "Epoch 85/100\n",
            "12/12 [==============================] - 0s 5ms/step - loss: 0.1957 - accuracy: 0.9835 - val_loss: 0.2320 - val_accuracy: 0.9451\n",
            "Epoch 86/100\n",
            "12/12 [==============================] - 0s 5ms/step - loss: 0.1950 - accuracy: 0.9835 - val_loss: 0.2327 - val_accuracy: 0.9451\n",
            "Epoch 87/100\n",
            "12/12 [==============================] - 0s 6ms/step - loss: 0.1946 - accuracy: 0.9835 - val_loss: 0.2316 - val_accuracy: 0.9451\n",
            "Epoch 88/100\n",
            "12/12 [==============================] - 0s 5ms/step - loss: 0.1940 - accuracy: 0.9835 - val_loss: 0.2316 - val_accuracy: 0.9451\n",
            "Epoch 89/100\n",
            "12/12 [==============================] - 0s 5ms/step - loss: 0.1934 - accuracy: 0.9835 - val_loss: 0.2307 - val_accuracy: 0.9451\n",
            "Epoch 90/100\n",
            "12/12 [==============================] - 0s 5ms/step - loss: 0.1927 - accuracy: 0.9835 - val_loss: 0.2307 - val_accuracy: 0.9451\n",
            "Epoch 91/100\n",
            "12/12 [==============================] - 0s 5ms/step - loss: 0.1923 - accuracy: 0.9835 - val_loss: 0.2305 - val_accuracy: 0.9451\n",
            "Epoch 92/100\n",
            "12/12 [==============================] - 0s 7ms/step - loss: 0.1920 - accuracy: 0.9835 - val_loss: 0.2283 - val_accuracy: 0.9451\n",
            "Epoch 93/100\n",
            "12/12 [==============================] - 0s 6ms/step - loss: 0.1912 - accuracy: 0.9835 - val_loss: 0.2283 - val_accuracy: 0.9451\n",
            "Epoch 94/100\n",
            "12/12 [==============================] - 0s 5ms/step - loss: 0.1906 - accuracy: 0.9835 - val_loss: 0.2291 - val_accuracy: 0.9451\n",
            "Epoch 95/100\n",
            "12/12 [==============================] - 0s 5ms/step - loss: 0.1899 - accuracy: 0.9835 - val_loss: 0.2287 - val_accuracy: 0.9451\n",
            "Epoch 96/100\n",
            "12/12 [==============================] - 0s 7ms/step - loss: 0.1897 - accuracy: 0.9835 - val_loss: 0.2274 - val_accuracy: 0.9451\n",
            "Epoch 97/100\n",
            "12/12 [==============================] - 0s 6ms/step - loss: 0.1891 - accuracy: 0.9835 - val_loss: 0.2264 - val_accuracy: 0.9451\n",
            "Epoch 98/100\n",
            "12/12 [==============================] - 0s 5ms/step - loss: 0.1881 - accuracy: 0.9835 - val_loss: 0.2260 - val_accuracy: 0.9451\n",
            "Epoch 99/100\n",
            "12/12 [==============================] - 0s 6ms/step - loss: 0.1877 - accuracy: 0.9835 - val_loss: 0.2258 - val_accuracy: 0.9451\n",
            "Epoch 100/100\n",
            "12/12 [==============================] - 0s 6ms/step - loss: 0.1875 - accuracy: 0.9835 - val_loss: 0.2250 - val_accuracy: 0.9451\n"
          ]
        }
      ]
    },
    {
      "cell_type": "markdown",
      "source": [
        "Model metrics"
      ],
      "metadata": {
        "id": "-cZPQn3iBc1t"
      }
    },
    {
      "cell_type": "code",
      "source": [
        "plt.plot(mt.history['accuracy'])\n",
        "plt.plot(mt.history['val_accuracy'])\n",
        "plt.title('Model Accuracy-L1 Regularization')\n",
        "plt.xlabel('Epoch')\n",
        "plt.ylabel('Accuracy')\n",
        "plt.legend(['Train', 'Validation'], loc='upper left')\n",
        "plt.show()"
      ],
      "metadata": {
        "colab": {
          "base_uri": "https://localhost:8080/",
          "height": 472
        },
        "id": "BrrZVm5-BHPG",
        "outputId": "75d11c24-715b-44bb-cb31-075cbfa95078"
      },
      "execution_count": 20,
      "outputs": [
        {
          "output_type": "display_data",
          "data": {
            "text/plain": [
              "<Figure size 640x480 with 1 Axes>"
            ],
            "image/png": "[encoded data removed]"
          },
          "metadata": {}
        }
      ]
    },
    {
      "cell_type": "code",
      "source": [
        "plt.plot(mt2.history['accuracy'])\n",
        "plt.plot(mt2.history['val_accuracy'])\n",
        "plt.title('Model Accuracy-L2 Regularization')\n",
        "plt.xlabel('Epoch')\n",
        "plt.ylabel('Accuracy')\n",
        "plt.legend(['Train', 'Validation'], loc='upper left')\n",
        "plt.show()"
      ],
      "metadata": {
        "colab": {
          "base_uri": "https://localhost:8080/",
          "height": 472
        },
        "id": "M1z5EoHnGthF",
        "outputId": "ceeac041-66a4-416c-b9ab-5ef85229f8d7"
      },
      "execution_count": 21,
      "outputs": [
        {
          "output_type": "display_data",
          "data": {
            "text/plain": [
              "<Figure size 640x480 with 1 Axes>"
            ],
            "image/png": "[encoded data removed]"
          },
          "metadata": {}
        }
      ]
    },
    {
      "cell_type": "code",
      "source": [
        "plt.plot(mt3.history['accuracy'])\n",
        "plt.plot(mt3.history['val_accuracy'])\n",
        "plt.title('Model Accuracy - Elastic Net')\n",
        "plt.xlabel('Epoch')\n",
        "plt.ylabel('Accuracy')\n",
        "plt.legend(['Train', 'Validation'], loc='upper left')\n",
        "plt.show()"
      ],
      "metadata": {
        "colab": {
          "base_uri": "https://localhost:8080/",
          "height": 472
        },
        "id": "bC7SW4c_Gtrw",
        "outputId": "26aae479-a8b5-47db-efe8-7785424ee781"
      },
      "execution_count": 22,
      "outputs": [
        {
          "output_type": "display_data",
          "data": {
            "text/plain": [
              "<Figure size 640x480 with 1 Axes>"
            ],
            "image/png": "[encoded data removed]"
          },
          "metadata": {}
        }
      ]
    },
    {
      "cell_type": "code",
      "source": [
        "#model 1\n",
        "y_probs = model.predict(X_test)\n",
        "y_pred = (y_probs > 0.5).astype(int)\n",
        "accuracy = accuracy_score(y_test, y_pred)\n",
        "precision = precision_score(y_test, y_pred)\n",
        "recall = recall_score(y_test, y_pred)\n",
        "f1 = f1_score(y_test, y_pred)\n",
        "cf = confusion_matrix(y_test, y_pred)\n",
        "fpr, tpr, thresholds = roc_curve(y_test, model.predict(X_test))\n",
        "roc_auc = auc(fpr, tpr)"
      ],
      "metadata": {
        "colab": {
          "base_uri": "https://localhost:8080/"
        },
        "id": "DZZcJFj_A-L9",
        "outputId": "baddca70-b3ce-4d42-fa78-47153a7c0989"
      },
      "execution_count": 23,
      "outputs": [
        {
          "output_type": "stream",
          "name": "stdout",
          "text": [
            "4/4 [==============================] - 0s 3ms/step\n",
            "4/4 [==============================] - 0s 3ms/step\n"
          ]
        }
      ]
    },
    {
      "cell_type": "code",
      "source": [
        "#model 2\n",
        "y_probs2 = model2.predict(X_test)\n",
        "y_pred2 = (y_probs2 > 0.5).astype(int)\n",
        "accuracy2 = accuracy_score(y_test, y_pred)\n",
        "precision2 = precision_score(y_test, y_pred)\n",
        "recall2 = recall_score(y_test, y_pred)\n",
        "f12 = f1_score(y_test, y_pred)\n",
        "cf2 = confusion_matrix(y_test, y_pred)\n",
        "fpr2, tpr2, thresholds2 = roc_curve(y_test, model2.predict(X_test))\n",
        "roc_auc2 = auc(fpr2, tpr2)"
      ],
      "metadata": {
        "colab": {
          "base_uri": "https://localhost:8080/"
        },
        "id": "88YIhky2HC98",
        "outputId": "81426cb7-4f2f-4617-edb6-6b48d2f18761"
      },
      "execution_count": 24,
      "outputs": [
        {
          "output_type": "stream",
          "name": "stdout",
          "text": [
            "4/4 [==============================] - 0s 3ms/step\n",
            "4/4 [==============================] - 0s 3ms/step\n"
          ]
        }
      ]
    },
    {
      "cell_type": "code",
      "source": [
        "#model 3\n",
        "y_probs3 = model3.predict(X_test)\n",
        "y_pred3 = (y_probs3 > 0.5).astype(int)\n",
        "accuracy3 = accuracy_score(y_test, y_pred)\n",
        "precision3 = precision_score(y_test, y_pred)\n",
        "recall3 = recall_score(y_test, y_pred)\n",
        "f13 = f1_score(y_test, y_pred)\n",
        "cf3 = confusion_matrix(y_test, y_pred)\n",
        "fpr3, tpr3, thresholds3 = roc_curve(y_test, model3.predict(X_test))\n",
        "roc_auc3 = auc(fpr3, tpr3)"
      ],
      "metadata": {
        "colab": {
          "base_uri": "https://localhost:8080/"
        },
        "id": "ET13vbr3HKQA",
        "outputId": "ce06557a-0402-42b9-b5d9-1d7debe481d6"
      },
      "execution_count": 25,
      "outputs": [
        {
          "output_type": "stream",
          "name": "stdout",
          "text": [
            "4/4 [==============================] - 0s 3ms/step\n",
            "4/4 [==============================] - 0s 3ms/step\n"
          ]
        }
      ]
    },
    {
      "cell_type": "code",
      "source": [
        "print(\"L1 Regularization\")\n",
        "print(\"Accuracy: \",accuracy)\n",
        "print(\"Precision: \",precision)\n",
        "print(\"Recall: \",recall)\n",
        "print(\"F1 Score: \",f1)\n",
        "\n",
        "print(\"\\nL2 Regularization\")\n",
        "print(\"Accuracy: \",accuracy2)\n",
        "print(\"Precision: \",precision2)\n",
        "print(\"Recall: \",recall2)\n",
        "print(\"F1 Score: \",f12)\n",
        "\n",
        "print(\"\\nElastic Net\")\n",
        "print(\"Accuracy: \",accuracy3)\n",
        "print(\"Precision: \",precision3)\n",
        "print(\"Recall: \",recall3)\n",
        "print(\"F1 Score: \",f13)"
      ],
      "metadata": {
        "colab": {
          "base_uri": "https://localhost:8080/"
        },
        "id": "cgkC3sNJDczh",
        "outputId": "af0497e1-8327-4d0c-b7d3-eaf153f30743"
      },
      "execution_count": 26,
      "outputs": [
        {
          "output_type": "stream",
          "name": "stdout",
          "text": [
            "L1 Regularization\n",
            "Accuracy:  0.9736842105263158\n",
            "Precision:  0.9761904761904762\n",
            "Recall:  0.9534883720930233\n",
            "F1 Score:  0.9647058823529412\n",
            "\n",
            "L2 Regularization\n",
            "Accuracy:  0.9736842105263158\n",
            "Precision:  0.9761904761904762\n",
            "Recall:  0.9534883720930233\n",
            "F1 Score:  0.9647058823529412\n",
            "\n",
            "Elastic Net\n",
            "Accuracy:  0.9736842105263158\n",
            "Precision:  0.9761904761904762\n",
            "Recall:  0.9534883720930233\n",
            "F1 Score:  0.9647058823529412\n"
          ]
        }
      ]
    },
    {
      "cell_type": "code",
      "source": [
        "fig, axes = plt.subplots(1, 3, figsize=(18, 6))\n",
        "\n",
        "# L1 Regularization\n",
        "sns.heatmap(cf, annot=True, fmt='d', cmap='Blues', linewidths=.5, annot_kws={\"size\": 16}, ax=axes[0])\n",
        "axes[0].set_title('Confusion Matrix - L1 Regularization')\n",
        "axes[0].set_xlabel('Predicted Label')\n",
        "axes[0].set_ylabel('True Label')\n",
        "\n",
        "# L2 Regularization\n",
        "sns.heatmap(cf2, annot=True, fmt='d', cmap='Blues', linewidths=.5, annot_kws={\"size\": 16}, ax=axes[1])\n",
        "axes[1].set_title('Confusion Matrix - L2 Regularization')\n",
        "axes[1].set_xlabel('Predicted Label')\n",
        "axes[1].set_ylabel('True Label')\n",
        "\n",
        "# Elastic Net\n",
        "sns.heatmap(cf3, annot=True, fmt='d', cmap='Blues', linewidths=.5, annot_kws={\"size\": 16}, ax=axes[2])\n",
        "axes[2].set_title('Confusion Matrix - Elastic Net Regularization')\n",
        "axes[2].set_xlabel('Predicted Label')\n",
        "axes[2].set_ylabel('True Label')\n",
        "\n",
        "plt.show()"
      ],
      "metadata": {
        "colab": {
          "base_uri": "https://localhost:8080/",
          "height": 438
        },
        "id": "cSWp9ouqI0nq",
        "outputId": "f31cef05-9a2a-4420-cc5d-a0f208879418"
      },
      "execution_count": 27,
      "outputs": [
        {
          "output_type": "display_data",
          "data": {
            "text/plain": [
              "<Figure size 1800x600 with 6 Axes>"
            ],
            "image/png": "[encoded data removed]"
          },
          "metadata": {}
        }
      ]
    },
    {
      "cell_type": "code",
      "source": [
        "# ROC Curve\n",
        "plt.plot(fpr, tpr, color='darkorange', lw=2, label='ROC curve (area = %0.2f)' % roc_auc)\n",
        "plt.plot([0, 1], [0, 1], color='navy', lw=2, linestyle='--')\n",
        "plt.xlabel('False Positive Rate')\n",
        "plt.ylabel('True Positive Rate')\n",
        "plt.title('Receiver Operating Characteristic (ROC) Curve')\n",
        "plt.legend(loc='lower right')\n",
        "plt.show()"
      ],
      "metadata": {
        "colab": {
          "base_uri": "https://localhost:8080/",
          "height": 472
        },
        "id": "lPdB5CzJCyhg",
        "outputId": "82f39428-deb1-4388-b822-b122c9389f59"
      },
      "execution_count": 28,
      "outputs": [
        {
          "output_type": "display_data",
          "data": {
            "text/plain": [
              "<Figure size 640x480 with 1 Axes>"
            ],
            "image/png": "[encoded data removed]"
          },
          "metadata": {}
        }
      ]
    },
    {
      "cell_type": "code",
      "source": [
        "plt.figure(figsize=(18, 6))\n",
        "\n",
        "# L1 Regularization\n",
        "plt.subplot(1, 3, 1)\n",
        "plt.plot(fpr, tpr, color='darkorange', lw=2, label='ROC curve (area = %0.2f)' % roc_auc)\n",
        "plt.plot([0, 1], [0, 1], color='navy', lw=2, linestyle='--')\n",
        "plt.xlabel('False Positive Rate')\n",
        "plt.ylabel('True Positive Rate')\n",
        "plt.title('ROC Curve - L1 Regularization')\n",
        "plt.legend(loc='lower right')\n",
        "\n",
        "# L2 Regularization\n",
        "plt.subplot(1, 3, 2)\n",
        "plt.plot(fpr2, tpr2, color='darkorange', lw=2, label='ROC curve (area = %0.2f)' % roc_auc2)\n",
        "plt.plot([0, 1], [0, 1], color='navy', lw=2, linestyle='--')\n",
        "plt.xlabel('False Positive Rate')\n",
        "plt.ylabel('True Positive Rate')\n",
        "plt.title('ROC Curve - L2 Regularization')\n",
        "plt.legend(loc='lower right')\n",
        "\n",
        "# Elastic Net\n",
        "plt.subplot(1, 3, 3)\n",
        "plt.plot(fpr3, tpr3, color='darkorange', lw=2, label='ROC curve (area = %0.2f)' % roc_auc3)\n",
        "plt.plot([0, 1], [0, 1], color='navy', lw=2, linestyle='--')\n",
        "plt.xlabel('False Positive Rate')\n",
        "plt.ylabel('True Positive Rate')\n",
        "plt.title('ROC Curve - Elastic Net Regularization')\n",
        "plt.legend(loc='lower right')\n",
        "\n",
        "plt.show()"
      ],
      "metadata": {
        "colab": {
          "base_uri": "https://localhost:8080/",
          "height": 432
        },
        "id": "s3vITmyvJQ03",
        "outputId": "34815c2a-0b0e-4fe1-80f8-c70f4c6d998c"
      },
      "execution_count": 29,
      "outputs": [
        {
          "output_type": "display_data",
          "data": {
            "text/plain": [
              "<Figure size 1800x600 with 3 Axes>"
            ],
            "image/png": "[encoded data removed]"
          },
          "metadata": {}
        }
      ]
    },
    {
      "cell_type": "markdown",
      "source": [
        "Due to high Epochs(100) our all 3 models have arounf the same accuracy.\n",
        "There confusion matrix value is also same.\n",
        "From observation we can say that the models have the same accuracy. The difference is iterations in which they are achieving this."
      ],
      "metadata": {
        "id": "C_VSONJVJjmt"
      }
    },
    {
      "cell_type": "code",
      "source": [],
      "metadata": {
        "id": "VzVHgTXKDMqY"
      },
      "execution_count": 29,
      "outputs": []
    }
  ]
}