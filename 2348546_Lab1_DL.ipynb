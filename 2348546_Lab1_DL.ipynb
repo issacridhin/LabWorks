{
  "nbformat": 4,
  "nbformat_minor": 0,
  "metadata": {
    "colab": {
      "provenance": [],
      "authorship_tag": "ABX9TyOSmQABBp9OK9krqgh9UFps",
      "include_colab_link": true
    },
    "kernelspec": {
      "name": "python3",
      "display_name": "Python 3"
    },
    "language_info": {
      "name": "python"
    }
  },
  "cells": [
    {
      "cell_type": "markdown",
      "metadata": {
        "id": "view-in-github",
        "colab_type": "text"
      },
      "source": [
        "<a href=\"https://colab.research.google.com/github/issacridhin/LabWorks/blob/DL/2348546_Lab1_DL.ipynb\" target=\"_parent\"><img src=\"https://colab.research.google.com/assets/colab-badge.svg\" alt=\"Open In Colab\"/></a>"
      ]
    },
    {
      "cell_type": "markdown",
      "source": [
        "# **First Question**"
      ],
      "metadata": {
        "id": "3hqc_hZJO3To"
      }
    },
    {
      "cell_type": "code",
      "source": [
        "#importing the packages\n",
        "import numpy as np\n",
        "import matplotlib.pyplot as plt"
      ],
      "metadata": {
        "id": "ZcahGfQWM_2Z"
      },
      "execution_count": null,
      "outputs": []
    },
    {
      "cell_type": "markdown",
      "source": [
        "**Perceptron Class Definition**\n",
        "\n",
        "shows the functionality of a single perceptron"
      ],
      "metadata": {
        "id": "CZ_QOdGYNT-K"
      }
    },
    {
      "cell_type": "code",
      "source": [
        "class Perceptron:\n",
        "    def __init__(self, input_size, learning_rate=0.1, epochs=100):\n",
        "        self.weights = np.zeros(input_size + 1)\n",
        "        self.learning_rate = learning_rate\n",
        "        self.epochs = epochs\n",
        "\n",
        "    def activation(self, x):\n",
        "        return 1 if x >= 0 else 0\n",
        "\n",
        "    def predict(self, inputs):\n",
        "        summation = np.dot(inputs, self.weights[1:]) + self.weights[0]\n",
        "        return self.activation(summation)\n",
        "\n",
        "    def train(self, training_inputs, labels):\n",
        "        for _ in range(self.epochs):\n",
        "            total_errors = 0\n",
        "            for inputs, label in zip(training_inputs, labels):\n",
        "                prediction = self.predict(inputs)\n",
        "                error = label - prediction\n",
        "                total_errors += np.abs(error)\n",
        "                self.weights[1:] += self.learning_rate * error * inputs\n",
        "                self.weights[0] += self.learning_rate * error\n",
        "            if total_errors == 0:\n",
        "                break\n",
        "        print(\"Final weights of the Perceptron:\", self.weights)\n",
        "        print(\"Total errors after training the perceptron:\", total_errors)"
      ],
      "metadata": {
        "id": "bu3pA7g3NDwH"
      },
      "execution_count": null,
      "outputs": []
    },
    {
      "cell_type": "markdown",
      "source": [
        "**Defining Training Data for Boolean Functions**"
      ],
      "metadata": {
        "id": "AebGjSDmNrQJ"
      }
    },
    {
      "cell_type": "code",
      "source": [
        "# AND function\n",
        "and_inputs = np.array([[0, 0], [0, 1], [1, 0], [1, 1]])\n",
        "and_labels = np.array([0, 0, 0, 1])\n",
        "\n",
        "# OR function\n",
        "or_inputs = np.array([[0, 0], [0, 1], [1, 0], [1, 1]])\n",
        "or_labels = np.array([0, 1, 1, 1])\n",
        "\n",
        "# NAND function\n",
        "nand_inputs = np.array([[0, 0], [0, 1], [1, 0], [1, 1]])\n",
        "nand_labels = np.array([1, 1, 1, 0])"
      ],
      "metadata": {
        "id": "l-_wFWz7Nvds"
      },
      "execution_count": null,
      "outputs": []
    },
    {
      "cell_type": "markdown",
      "source": [
        "**Creating perceptron for each boolean function**"
      ],
      "metadata": {
        "id": "0eLuGR2nN12d"
      }
    },
    {
      "cell_type": "code",
      "source": [
        "and_perceptron = Perceptron(2)\n",
        "or_perceptron = Perceptron(2)\n",
        "nand_perceptron = Perceptron(2)\n"
      ],
      "metadata": {
        "id": "pjgDzRWhN_DL"
      },
      "execution_count": null,
      "outputs": []
    },
    {
      "cell_type": "markdown",
      "source": [
        "**Assigning Weights Manually**"
      ],
      "metadata": {
        "id": "1r-TGu8tODIT"
      }
    },
    {
      "cell_type": "code",
      "source": [
        "and_perceptron.weights = np.array([-0.4, 0.4, 0.4])\n",
        "or_perceptron.weights = np.array([-0.4, 0.4, 0.4])\n",
        "nand_perceptron.weights = np.array([0.4, -0.4, -0.4])\n"
      ],
      "metadata": {
        "id": "aFlrfZypOFxw"
      },
      "execution_count": null,
      "outputs": []
    },
    {
      "cell_type": "markdown",
      "source": [
        "**Displaying Initial Errors before Training**"
      ],
      "metadata": {
        "id": "ekFxpuLhOP_T"
      }
    },
    {
      "cell_type": "code",
      "source": [
        "print(\"Initial weights and errors of the Perceptron:\")\n",
        "print(\"AND perceptron:\")\n",
        "and_errors = sum([1 for inputs, label in zip(and_inputs, and_labels) if and_perceptron.predict(inputs) != label])\n",
        "print(\"Errors:\", and_errors)\n",
        "print(\"OR perceptron:\")\n",
        "or_errors = sum([1 for inputs, label in zip(or_inputs, or_labels) if or_perceptron.predict(inputs) != label])\n",
        "print(\"Errors:\", or_errors)\n",
        "print(\"NAND perceptron:\")\n",
        "nand_errors = sum([1 for inputs, label in zip(nand_inputs, nand_labels) if nand_perceptron.predict(inputs) != label])\n",
        "print(\"Errors:\", nand_errors)"
      ],
      "metadata": {
        "colab": {
          "base_uri": "https://localhost:8080/"
        },
        "id": "P3jFiuD0OTKd",
        "outputId": "bbb692b8-9c68-45c7-b66b-5d36da8c051e"
      },
      "execution_count": null,
      "outputs": [
        {
          "output_type": "stream",
          "name": "stdout",
          "text": [
            "Initial weights and errors of the Perceptron:\n",
            "AND perceptron:\n",
            "Errors: 2\n",
            "OR perceptron:\n",
            "Errors: 0\n",
            "NAND perceptron:\n",
            "Errors: 0\n"
          ]
        }
      ]
    },
    {
      "cell_type": "markdown",
      "source": [
        "**Train Perceptrons**"
      ],
      "metadata": {
        "id": "-e57Y4OHOU7x"
      }
    },
    {
      "cell_type": "code",
      "source": [
        "print(\"\\nTraining the Perceptron\")\n",
        "and_perceptron.train(and_inputs, and_labels)\n",
        "or_perceptron.train(or_inputs, or_labels)\n",
        "nand_perceptron.train(nand_inputs, nand_labels)"
      ],
      "metadata": {
        "colab": {
          "base_uri": "https://localhost:8080/"
        },
        "id": "jqAVwuplOXVj",
        "outputId": "2c518fe4-5b59-472a-8937-b6a992b9cee8"
      },
      "execution_count": null,
      "outputs": [
        {
          "output_type": "stream",
          "name": "stdout",
          "text": [
            "\n",
            "Training the Perceptron\n",
            "Final weights of the Perceptron: [-0.5  0.4  0.3]\n",
            "Total errors after training the perceptron: 0\n",
            "Final weights of the Perceptron: [-0.4  0.4  0.4]\n",
            "Total errors after training the perceptron: 0\n",
            "Final weights of the Perceptron: [ 0.4 -0.4 -0.4]\n",
            "Total errors after training the perceptron: 0\n"
          ]
        }
      ]
    },
    {
      "cell_type": "markdown",
      "source": [
        "# **Second Question**"
      ],
      "metadata": {
        "id": "W4qdjTXhO7EX"
      }
    },
    {
      "cell_type": "code",
      "source": [
        "# Define the function\n",
        "def f(x):\n",
        "    return x**2 - 2*x + 2\n",
        "\n",
        "# Define the derivative of the function\n",
        "def f_derivative(x):\n",
        "    return 2*x - 2\n",
        "\n",
        "# Gradient Descent algorithm\n",
        "def gradient_descent(f_derivative, learning_rate, precision):\n",
        "    x = np.random.rand() * 10  # Random initial guess\n",
        "    iterations = 0\n",
        "    while True:\n",
        "        gradient = f_derivative(x)\n",
        "        new_x = x - learning_rate * gradient\n",
        "        if abs(new_x - x) < precision:\n",
        "            break\n",
        "        x = new_x\n",
        "        iterations += 1\n",
        "    return x, iterations\n",
        "\n",
        "# Perform gradient descent\n",
        "learning_rate = 0.1\n",
        "precision = 1e-6\n",
        "minima, iterations = gradient_descent(f_derivative, learning_rate, precision)\n",
        "print(\"Global Minima of f(x) =\", minima)\n",
        "print(\"Number of iterations taken to identify the global minima:\", iterations)\n",
        "\n",
        "# Visualize the function and the minima\n",
        "x = np.linspace(-5, 7, 100)\n",
        "plt.plot(x, f(x), label='f(x) = x^2 - 2x + 2')\n",
        "plt.scatter(minima, f(minima), color='red', label='Global Minima')\n",
        "plt.xlabel('x')\n",
        "plt.ylabel('f(x)')\n",
        "plt.title('f(x) = x^2 - 2x + 2')\n",
        "plt.legend()\n",
        "plt.grid(True)\n",
        "plt.show()"
      ],
      "metadata": {
        "id": "RsXAmA60O9-n",
        "colab": {
          "base_uri": "https://localhost:8080/",
          "height": 507
        },
        "outputId": "49365d14-0255-4bd8-8c16-73ddab630eab"
      },
      "execution_count": null,
      "outputs": [
        {
          "output_type": "stream",
          "name": "stdout",
          "text": [
            "Global Minima of f(x) = 1.0000048047013674\n",
            "Number of iterations taken to identify the global minima: 59\n"
          ]
        },
        {
          "output_type": "display_data",
          "data": {
            "text/plain": [
              "<Figure size 640x480 with 1 Axes>"
            ],
            "image/png": "[encoded data removed]"
          },
          "metadata": {}
        }
      ]
    }
  ]
}