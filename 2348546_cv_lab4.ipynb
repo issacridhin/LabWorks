{
  "nbformat": 4,
  "nbformat_minor": 0,
  "metadata": {
    "colab": {
      "provenance": [],
      "include_colab_link": true
    },
    "kernelspec": {
      "name": "python3",
      "display_name": "Python 3"
    },
    "language_info": {
      "name": "python"
    }
  },
  "cells": [
    {
      "cell_type": "markdown",
      "metadata": {
        "id": "view-in-github",
        "colab_type": "text"
      },
      "source": [
        "<a href=\"https://colab.research.google.com/github/issacridhin/LabWorks/blob/CV/2348546_cv_lab4.ipynb\" target=\"_parent\"><img src=\"https://colab.research.google.com/assets/colab-badge.svg\" alt=\"Open In Colab\"/></a>"
      ]
    },
    {
      "cell_type": "code",
      "execution_count": null,
      "metadata": {
        "colab": {
          "base_uri": "https://localhost:8080/"
        },
        "id": "fxdCHTDsQNz1",
        "outputId": "5f896d20-b072-4ee7-d9bd-6c71ffe9d51a"
      },
      "outputs": [
        {
          "output_type": "stream",
          "name": "stdout",
          "text": [
            "Requirement already satisfied: opencv-python in /usr/local/lib/python3.10/dist-packages (4.8.0.76)\n",
            "Requirement already satisfied: numpy>=1.21.2 in /usr/local/lib/python3.10/dist-packages (from opencv-python) (1.25.2)\n"
          ]
        }
      ],
      "source": [
        "pip install opencv-python"
      ]
    },
    {
      "cell_type": "markdown",
      "source": [
        "Built In functions"
      ],
      "metadata": {
        "id": "yW2dKmQvUJ3h"
      }
    },
    {
      "cell_type": "code",
      "source": [
        "import cv2\n",
        "import numpy as np\n",
        "from google.colab.patches import cv2_imshow\n",
        "\n",
        "img = cv2.imread('/content/pexels-evg-kowalievska-1170986.jpg')"
      ],
      "metadata": {
        "id": "oXy3gnm8S0BT"
      },
      "execution_count": null,
      "outputs": []
    },
    {
      "cell_type": "code",
      "source": [
        "def add_gaussian_noise(image, mean=0, sigma=25):\n",
        "    row, col, ch = image.shape\n",
        "    gauss = np.random.normal(mean, sigma, (row, col, ch))\n",
        "    gauss = gauss.reshape(row, col, ch)\n",
        "    noisy = image + gauss\n",
        "    return np.clip(noisy, 0, 255).astype(np.uint8)\n"
      ],
      "metadata": {
        "id": "6XjwA-XPTBK4"
      },
      "execution_count": null,
      "outputs": []
    },
    {
      "cell_type": "markdown",
      "source": [
        "HERE we are adding some noise to the image so that we can remove it later"
      ],
      "metadata": {
        "id": "K4zhyqv0UOfX"
      }
    },
    {
      "cell_type": "code",
      "source": [
        "def average_filter(image, kernel_size=3):\n",
        "    return cv2.blur(image, (kernel_size, kernel_size))"
      ],
      "metadata": {
        "id": "gMCovCLxTDBh"
      },
      "execution_count": null,
      "outputs": []
    },
    {
      "cell_type": "markdown",
      "source": [
        "then we are using the average filter kernel with magnitude 3 It is the standard value of average filetering in order to remove the noise.\n",
        "3 says that we are taking a 3*3 square of pixels around each pixel in the image."
      ],
      "metadata": {
        "id": "hxEXlE9SUf7I"
      }
    },
    {
      "cell_type": "markdown",
      "source": [
        " we're taking the pixel values of this small 3x3 square, adding them up, and then dividing by the number of pixels in that square (which is 3x3 = 9 in this case)."
      ],
      "metadata": {
        "id": "fM569I7iUfHJ"
      }
    },
    {
      "cell_type": "code",
      "source": [
        "def gaussian_blur(image, kernel_size=15, sigma=0):\n",
        "    return cv2.GaussianBlur(image, (kernel_size, kernel_size), sigma)\n"
      ],
      "metadata": {
        "id": "IACDtzC3TF4_"
      },
      "execution_count": null,
      "outputs": []
    },
    {
      "cell_type": "markdown",
      "source": [
        "here we are applying the gaussian blur kernel to blur the image using gausian params"
      ],
      "metadata": {
        "id": "2AHNlXNFVXla"
      }
    },
    {
      "cell_type": "code",
      "source": [
        "def sharpening_filter(image):\n",
        "    kernel = np.array([[0, -1, 0],\n",
        "                       [-1, 5, -1],\n",
        "                       [0, -1, 0]], dtype=np.float32)\n",
        "    return cv2.filter2D(image, -1, kernel)"
      ],
      "metadata": {
        "id": "dBBJVsZJTHOT"
      },
      "execution_count": null,
      "outputs": []
    },
    {
      "cell_type": "markdown",
      "source": [
        "here we are sharpening the image."
      ],
      "metadata": {
        "id": "OswXHbq-Vi9K"
      }
    },
    {
      "cell_type": "code",
      "source": [
        "image = add_gaussian_noise(img)\n",
        "\n",
        "filtered_image = average_filter(image)\n",
        "\n",
        "blurred_image = gaussian_blur(img, kernel_size=5, sigma=0)\n",
        "\n",
        "sharpened_image = sharpening_filter(img)\n"
      ],
      "metadata": {
        "id": "SWXiq25ZTJXi"
      },
      "execution_count": null,
      "outputs": []
    },
    {
      "cell_type": "markdown",
      "source": [
        "displaying"
      ],
      "metadata": {
        "id": "9W2eC9NKWCh5"
      }
    },
    {
      "cell_type": "code",
      "source": [
        "cv2_imshow(img)\n",
        "cv2_imshow(image)\n",
        "cv2_imshow(filtered_image)\n",
        "cv2_imshow(blurred_image)\n",
        "cv2_imshow(sharpened_image)"
      ],
      "metadata": {
        "colab": {
          "base_uri": "https://localhost:8080/",
          "height": 1000
        },
        "id": "42AokL4UQati",
        "outputId": "10c37a5e-5c8b-47d2-b2b9-f45fe0e30fdc"
      },
      "execution_count": null,
      "outputs": []
    },
    {
      "cell_type": "markdown",
      "source": [
        "1. here the 1st image is the original image\n",
        "2. 2nd image is the one where we explicitly added some noise to the pic\n",
        "3. 3rd image is the noise removed image\n",
        "4. 4th image the gaussian blurred image\n",
        "5. 5th image is the sharpened image using"
      ],
      "metadata": {
        "id": "mgS86Ljg59XC"
      }
    },
    {
      "cell_type": "markdown",
      "source": [
        "user defined functions"
      ],
      "metadata": {
        "id": "xWX0sLJKWHo2"
      }
    },
    {
      "cell_type": "code",
      "source": [
        "img = cv2.imread('/content/pexels-evg-kowalievska-1170986.jpg')\n",
        "\n",
        "def add_gaussian_noise(image, mean=0, sigma=25):\n",
        "    row, col, ch = img.shape\n",
        "    gauss = np.random.normal(mean, sigma, (row, col, ch))\n",
        "    noisy = img + gauss\n",
        "    return np.clip(noisy, 0, 255).astype(np.uint8)"
      ],
      "metadata": {
        "id": "r8IsNeXC9fBK"
      },
      "execution_count": null,
      "outputs": []
    },
    {
      "cell_type": "code",
      "source": [
        "\n",
        "def average_filter(img, kernel_size=3):\n",
        "    row, col, ch = img.shape\n",
        "    filtered_img = np.zeros((row, col, ch), dtype=np.uint8)\n",
        "    pad_size = kernel_size // 2\n",
        "    padded_img= cv2.copyMakeBorder(img, pad_size, pad_size, pad_size, pad_size, cv2.BORDER_REFLECT)\n",
        "    for i in range(pad_size, row + pad_size):\n",
        "        for j in range(pad_size, col + pad_size):\n",
        "            roi = padded_img[i-pad_size:i+pad_size+1, j-pad_size:j+pad_size+1]\n",
        "            filtered_img[i-pad_size, j-pad_size] = np.mean(roi, axis=(0, 1))\n",
        "    return filtered_img\n"
      ],
      "metadata": {
        "id": "wR1iY0Cg9kAf"
      },
      "execution_count": null,
      "outputs": []
    },
    {
      "cell_type": "code",
      "source": [
        "\n",
        "\n",
        "def gaussian_blur(img, kernel_size=20, sigma=0):\n",
        "    row, col, ch = img.shape\n",
        "    filtered_img = np.zeros((row, col, ch), dtype=np.uint8)\n",
        "    pad_size = kernel_size // 2\n",
        "    padded_img = cv2.copyMakeBorder(img, pad_size, pad_size, pad_size, pad_size, cv2.BORDER_REFLECT)\n",
        "    kernel = np.zeros((kernel_size, kernel_size))\n",
        "    for i in range(kernel_size):\n",
        "        for j in range(kernel_size):\n",
        "            x = i - pad_size\n",
        "            y = j - pad_size\n",
        "            kernel[i, j] = np.exp(-(x ** 2 + y ** 2) / (2 * sigma ** 2))\n",
        "    kernel /= np.sum(kernel)\n",
        "    for i in range(pad_size, row + pad_size):\n",
        "        for j in range(pad_size, col + pad_size):\n",
        "            roi = padded_img[i-pad_size:i+pad_size+1, j-pad_size:j+pad_size+1, :]\n",
        "            for c in range(ch):\n",
        "                filtered_img[i-pad_size, j-pad_size, c] = np.sum(roi[:,:,c] * kernel)\n",
        "    return filtered_img\n"
      ],
      "metadata": {
        "id": "x_o7KW5M9mWa"
      },
      "execution_count": null,
      "outputs": []
    },
    {
      "cell_type": "code",
      "source": [
        "def sharpening_filter(loki):\n",
        "    row, col = loki.shape[:2]\n",
        "    filtered_loki = np.zeros_like(loki, dtype=np.float32)\n",
        "    pad_size = 1\n",
        "    padded_loki = cv2.copyMakeBorder(loki, pad_size, pad_size, pad_size, pad_size, cv2.BORDER_REFLECT)\n",
        "    kernel = np.array([[0, -1, 0], [-1, 5, -1], [0, -1, 0]], dtype=np.float32)\n",
        "    for i in range(pad_size, row + pad_size):\n",
        "        for j in range(pad_size, col + pad_size):\n",
        "            roi = padded_loki[i-pad_size:i+pad_size+1, j-pad_size:j+pad_size+1]\n",
        "            for c in range(loki.shape[2]):\n",
        "                filtered_loki[i-pad_size, j-pad_size, c] = np.sum(roi[:,:,c] * kernel)\n",
        "    return np.clip(filtered_loki, 0, 255).astype(np.uint8)\n"
      ],
      "metadata": {
        "id": "yzOdwh8k9oU2"
      },
      "execution_count": null,
      "outputs": []
    },
    {
      "cell_type": "code",
      "source": [
        "img_noisy_image = add_gaussian_noise(img)\n",
        "\n",
        "imgnoise_filtered_image = average_filter(img_noisy_image)\n",
        "\n",
        "imggaussian_blurred_image = gaussian_blur(img, kernel_size=5, sigma=1)\n",
        "\n",
        "imgsharpened_image = sharpening_filter(img)"
      ],
      "metadata": {
        "id": "zLqt1aN1WGx4"
      },
      "execution_count": null,
      "outputs": []
    },
    {
      "cell_type": "code",
      "source": [
        "cv2_imshow(img)\n",
        "cv2_imshow(img_noisy_image)\n",
        "cv2_imshow(imgnoise_filtered_image)\n",
        "cv2_imshow(imggaussian_blurred_image)\n",
        "cv2_imshow(imgsharpened_image)"
      ],
      "metadata": {
        "colab": {
          "base_uri": "https://localhost:8080/",
          "height": 1000
        },
        "id": "j37wrKy_9swk",
        "outputId": "4dc8fb38-e1f5-42fc-aeb0-6a6ec23b27ad"
      },
      "execution_count": null,
      "outputs": []
    }
  ]
}